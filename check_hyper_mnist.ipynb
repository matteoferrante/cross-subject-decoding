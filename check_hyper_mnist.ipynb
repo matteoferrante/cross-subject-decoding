{
 "cells": [
  {
   "cell_type": "code",
   "execution_count": 1,
   "id": "00e28c8d-e854-4a68-949d-89ab7467455d",
   "metadata": {
    "tags": []
   },
   "outputs": [
    {
     "name": "stderr",
     "output_type": "stream",
     "text": [
      "/home/matteo/anaconda3/envs/deep/lib/python3.9/site-packages/tqdm/auto.py:21: TqdmWarning: IProgress not found. Please update jupyter and ipywidgets. See https://ipywidgets.readthedocs.io/en/stable/user_install.html\n",
      "  from .autonotebook import tqdm as notebook_tqdm\n"
     ]
    }
   ],
   "source": [
    "import os\n",
    "import glob\n",
    "import numpy as np\n",
    "import pandas as pd\n",
    "import seaborn as sns\n",
    "# from nltools.mask import create_sphere, expand_mask\n",
    "# from nltools.data import Brain_Data, Adjacency\n",
    "# from nltools.stats import align\n",
    "import matplotlib.pyplot as plt\n",
    "import matplotlib.gridspec as gridspec\n",
    "import warnings\n",
    "# from mvpa2.suite import \n",
    "import numpy as np\n",
    "from sklearn.linear_model import RidgeCV\n",
    "import numpy as np\n",
    "import torch\n",
    "from os.path import join as opj\n",
    "from transformers import AutoProcessor, CLIPTextModel\n",
    "import tqdm\n",
    "from sklearn.cluster import KMeans\n",
    "from sklearn.model_selection import train_test_split\n",
    "# from hyperalign import align\n",
    "%matplotlib inline\n",
    "from os import makedirs"
   ]
  },
  {
   "cell_type": "code",
   "execution_count": 2,
   "id": "d60f4119-4e45-4699-a5ae-a0179188634e",
   "metadata": {
    "tags": []
   },
   "outputs": [],
   "source": [
    "class HyperAlign:\n",
    "    def __init__(self, device,randomize=False,rank=300):\n",
    "        self.device = device\n",
    "        self.R=None\n",
    "        self.c=None\n",
    "        self.randomize=randomize\n",
    "        self.rank=rank\n",
    "\n",
    "        \n",
    "    def randomized_svd(self,M, rank=None):\n",
    "        M=M.double()\n",
    "        m, n = M.shape\n",
    "\n",
    "        # Step 1: Randomly generate a matrix G\n",
    "        G = torch.randn(n, self.rank).to(M.device).double()\n",
    "\n",
    "        # Step 2: Form a matrix H = MG\n",
    "        H = M @ G\n",
    "\n",
    "        # Step 3: Orthonormalize H\n",
    "        Q, _ = torch.linalg.qr(H)\n",
    "\n",
    "        # Step 4: Form the matrix T = Q.T @ M\n",
    "        T = Q.T @ M\n",
    "\n",
    "        # Step 5: Compute the SVD of T\n",
    "        U_hat, s, V = torch.linalg.svd(T, full_matrices=False)\n",
    "\n",
    "        # Step 6: Compute U = QU_hat\n",
    "        U = Q @ U_hat\n",
    "\n",
    "        return V.T, s, U\n",
    "\n",
    "\n",
    "    def orthogonal_procrustes(self, A, B):\n",
    "        A, B = A.to(self.device), B.to(self.device)\n",
    "\n",
    "        product = A.T @ B\n",
    "        if self.randomize:\n",
    "            U, _, V = self.randomized_svd(product, self.rank)\n",
    "        else:\n",
    "            U, _, V = torch.linalg.svd(product)\n",
    "        R = U @ V.T\n",
    "        c = torch.trace(B.T @ (A @ R)) / torch.trace(A.T @ A)\n",
    "        return R, c\n",
    "\n",
    "    def fit(self,source,target):\n",
    "        R, c = self.orthogonal_procrustes(source, target)\n",
    "        self.R=R\n",
    "        self.c=c\n",
    "        print(\"fit completed\")\n",
    "    \n",
    "    def align(self, source):\n",
    "        \n",
    "        assert self.R is not None, \"Call fit before with source, target before\"\n",
    "        source = source.to(self.device)\n",
    "        # R, c = self.orthogonal_procrustes(source, target)\n",
    "\n",
    "        # Align the source to the target\n",
    "        source_aligned = self.c * source @ self.R\n",
    "\n",
    "        return source_aligned.cpu()\n"
   ]
  },
  {
   "cell_type": "code",
   "execution_count": 3,
   "id": "d2403187-7263-4cce-9b2b-2d8fc5586d78",
   "metadata": {
    "tags": []
   },
   "outputs": [
    {
     "name": "stderr",
     "output_type": "stream",
     "text": [
      "100%|█████████████████████████████████████████████| 1/1 [00:04<00:00,  4.87s/it]\n"
     ]
    }
   ],
   "source": [
    "import numpy as np\n",
    "import torch\n",
    "import torchvision\n",
    "import torchvision.transforms as transforms\n",
    "from sklearn.decomposition import PCA\n",
    "import matplotlib.pyplot as plt\n",
    "\n",
    "# Function to load the MNIST dataset\n",
    "def load_mnist_dataset(batch_size=60000, shuffle=False):\n",
    "    transform = transforms.Compose([transforms.ToTensor()])\n",
    "    train_dataset = torchvision.datasets.MNIST(root='./data', train=True, transform=transform, download=True)\n",
    "    train_loader = torch.utils.data.DataLoader(dataset=train_dataset, batch_size=batch_size, shuffle=shuffle)\n",
    "    return train_loader\n",
    "\n",
    "# 1. Load the entire MNIST dataset\n",
    "train_loader = load_mnist_dataset()\n",
    "\n",
    "# 2. Reshape and concatenate all the images\n",
    "data = []\n",
    "labels = []\n",
    "for images, lbls in tqdm.tqdm(train_loader):\n",
    "    images_flat = images.view(images.size(0), -1)  # Flatten the images\n",
    "    data.append(images_flat)\n",
    "    labels.append(lbls)\n",
    "\n",
    "# Concatenate all the data and labels\n",
    "data = torch.cat(data, out=torch.Tensor(len(train_loader.dataset), data[0].shape[1]))\n",
    "labels = torch.cat(labels)\n",
    "\n",
    "# Convert to numpy arrays\n",
    "data_np = data.numpy()\n",
    "labels_np = labels.numpy()\n"
   ]
  },
  {
   "cell_type": "code",
   "execution_count": 171,
   "id": "fc5ac494-1972-4623-831d-734f2a6dd379",
   "metadata": {
    "tags": []
   },
   "outputs": [],
   "source": [
    "\n",
    "# 3. Apply PCA\n",
    "pca = PCA(n_components=128).fit(data_np[:4096]) # Reduce to 2D for visualization\n",
    "\n",
    "# # 6. Plot the explained variance ratio\n",
    "# explained_variance_ratio = pca.explained_variance_ratio_\n",
    "# plt.figure(figsize=(10, 6))\n",
    "# plt.plot(np.cumsum(explained_variance_ratio))\n",
    "# plt.xlabel('Number of Components')\n",
    "# plt.ylabel('Cumulative Explained Variance')\n",
    "# plt.title('Explained Variance Ratio')\n",
    "# plt.grid(True)\n",
    "# plt.show()\n",
    "\n",
    "# # 7. Find the n_components able to explain the 95% of variance\n",
    "# cumulative_explained_variance = np.cumsum(explained_variance_ratio)\n",
    "# n_components_95 = np.where(cumulative_explained_variance >= 0.95)[0][0] + 1\n",
    "# print(f\"Number of components to explain 95% variance: {n_components_95}\")\n",
    "\n",
    "# # 8. Fit a PCA with this n_components\n",
    "# pca_95 = PCA(n_components=n_components_95)\n",
    "# pca_95_result = pca_95.fit_transform(flattened_image.reshape(1, -1))\n"
   ]
  },
  {
   "cell_type": "code",
   "execution_count": 172,
   "id": "a1817f6c-5659-4f5a-a8d0-810912033695",
   "metadata": {
    "tags": []
   },
   "outputs": [],
   "source": [
    "data_np_res=pca.transform(data_np[:4096])\n",
    "\n",
    "data_np_recon=pca.inverse_transform(data_np_res)"
   ]
  },
  {
   "cell_type": "code",
   "execution_count": 173,
   "id": "8ec89b5f-10d8-47bc-8879-1784bf555849",
   "metadata": {
    "tags": []
   },
   "outputs": [],
   "source": [
    "target_batch=data_np[512:]\n",
    "noise_level=0.1\n",
    "\n",
    "target=pca.transform(target_batch)\n",
    "source=target+np.random.randn()*target.std()*noise_level"
   ]
  },
  {
   "cell_type": "code",
   "execution_count": 174,
   "id": "22708d63-1265-420a-8f6d-c9ddd36a4955",
   "metadata": {
    "tags": []
   },
   "outputs": [
    {
     "name": "stdout",
     "output_type": "stream",
     "text": [
      "fit completed\n"
     ]
    },
    {
     "name": "stderr",
     "output_type": "stream",
     "text": [
      "/tmp/ipykernel_589127/3466861712.py:8: UserWarning: To copy construct from a tensor, it is recommended to use sourceTensor.clone().detach() or sourceTensor.clone().detach().requires_grad_(True), rather than torch.tensor(sourceTensor).\n",
      "  aligned_source=hyper_align.align(torch.tensor(source)).numpy()\n"
     ]
    }
   ],
   "source": [
    "hyper_align = HyperAlign(\"cuda:0\")\n",
    "\n",
    "source = torch.tensor(source).float()\n",
    "target = torch.tensor(target).float()\n",
    "hyper_align.fit(source,target)\n",
    "\n",
    "\n",
    "aligned_source=hyper_align.align(torch.tensor(source)).numpy()\n",
    "\n",
    "#adjust values\n",
    "final_mean=target.mean(0)\n",
    "final_std=target.std(0)\n",
    "\n",
    "\n",
    "aligned_source_adj=(aligned_source-aligned_source.mean(0))/(1e-8+aligned_source.std(0))\n",
    "aligned_source_adj=final_std*aligned_source_adj+final_mean"
   ]
  },
  {
   "cell_type": "code",
   "execution_count": 40,
   "id": "a2554ddd-d447-4f5b-8ecb-4fc8762f3b70",
   "metadata": {
    "tags": []
   },
   "outputs": [],
   "source": [
    "# aligned_source_adj.min(), source.min()"
   ]
  },
  {
   "cell_type": "code",
   "execution_count": 175,
   "id": "ed344b5c-b906-4acc-8acb-537c82d3aa8e",
   "metadata": {
    "tags": []
   },
   "outputs": [
    {
     "data": {
      "text/plain": [
       "Text(0.5, 1.0, 'recon aligned')"
      ]
     },
     "execution_count": 175,
     "metadata": {},
     "output_type": "execute_result"
    },
    {
     "data": {
      "image/png": "[encoded data removed]",
      "text/plain": [
       "<Figure size 1000x300 with 3 Axes>"
      ]
     },
     "metadata": {},
     "output_type": "display_data"
    }
   ],
   "source": [
    "idx=7\n",
    "\n",
    "\n",
    "fig,axs=plt.subplots(1,3,figsize=(10,3))\n",
    "\n",
    "axs[0].imshow(target_batch[idx].reshape(28,28))\n",
    "axs[0].set_title(\"original\")\n",
    "axs[1].imshow(pca.inverse_transform(source[idx:idx+1]).reshape(28,28))\n",
    "axs[1].set_title(\"recon\")\n",
    "\n",
    "out=pca.inverse_transform(aligned_source_adj[idx:idx+1]).reshape(28,28)\n",
    "# out=out>np.percentile(out,80)\n",
    "axs[2].imshow(out)\n",
    "axs[2].set_title(\"recon aligned\")\n",
    "\n"
   ]
  },
  {
   "cell_type": "code",
   "execution_count": 135,
   "id": "e90706ea-9745-4508-8706-c8220ddf6d7f",
   "metadata": {
    "tags": []
   },
   "outputs": [
    {
     "data": {
      "text/plain": [
       "(array([ 1.,  0.,  0.,  0.,  0.,  0.,  0.,  0.,  0.,  0.,  0.,  3.,  2.,\n",
       "         3.,  4.,  2., 11., 46., 89., 56., 22.,  8.,  2.,  2.,  2.,  1.,\n",
       "         0.,  0.,  0.,  0.,  0.,  0.,  0.,  0.,  0.,  0.,  0.,  1.,  0.,\n",
       "         0.,  0.,  0.,  0.,  0.,  0.,  0.,  0.,  0.,  0.,  1.]),\n",
       " array([-3.23545027, -3.06102967, -2.88660908, -2.71218848, -2.53776789,\n",
       "        -2.36334729, -2.1889267 , -2.01450586, -1.84008539, -1.66566479,\n",
       "        -1.49124408, -1.31682348, -1.14240289, -0.96798229, -0.7935617 ,\n",
       "        -0.61914104, -0.44472045, -0.27029982, -0.09587921,  0.07854141,\n",
       "         0.25296202,  0.42738262,  0.60180324,  0.77622384,  0.95064449,\n",
       "         1.12506509,  1.29948568,  1.47390628,  1.64832687,  1.82274759,\n",
       "         1.99716818,  2.17158866,  2.34600949,  2.52043009,  2.69485068,\n",
       "         2.86927128,  3.04369187,  3.21811247,  3.39253306,  3.56695366,\n",
       "         3.74137425,  3.91579485,  4.09021568,  4.26463604,  4.43905687,\n",
       "         4.61347723,  4.78789806,  4.96231842,  5.13673925,  5.31115961,\n",
       "         5.48558044]),\n",
       " <BarContainer object of 50 artists>)"
      ]
     },
     "execution_count": 135,
     "metadata": {},
     "output_type": "execute_result"
    },
    {
     "data": {
      "image/png": "[encoded data removed]",
      "text/plain": [
       "<Figure size 640x480 with 1 Axes>"
      ]
     },
     "metadata": {},
     "output_type": "display_data"
    }
   ],
   "source": [
    "plt.hist(aligned_source_adj[idx:idx+1],bins=50)\n",
    "plt.hist(source[idx:idx+1],alpha=0.5,bins=50)\n"
   ]
  },
  {
   "cell_type": "code",
   "execution_count": 176,
   "id": "830f76d5-132e-4de0-bd5a-2f2e729b84c8",
   "metadata": {
    "tags": []
   },
   "outputs": [
    {
     "name": "stdout",
     "output_type": "stream",
     "text": [
      "fit completed\n"
     ]
    },
    {
     "data": {
      "text/plain": [
       "Text(0.5, 1.0, 'recon aligned')"
      ]
     },
     "execution_count": 176,
     "metadata": {},
     "output_type": "execute_result"
    },
    {
     "data": {
      "image/png": "[encoded data removed]",
      "text/plain": [
       "<Figure size 1000x300 with 3 Axes>"
      ]
     },
     "metadata": {},
     "output_type": "display_data"
    }
   ],
   "source": [
    "pca_many = PCA(n_components=512,svd_solver=\"auto\").fit(data_np[:512]) # Reduce to 2D for visualization\n",
    "\n",
    "data_np_res_many=pca_many.transform(data_np[:4096])\n",
    "data_np_recon_many=pca_many.inverse_transform(data_np_res_many)\n",
    "\n",
    "target_batch_many=data_np[512:]\n",
    "noise_level=0.1\n",
    "\n",
    "target_many=pca_many.transform(target_batch_many)\n",
    "source_many=target_many+np.random.randn()*target_many.std()*noise_level\n",
    "\n",
    "\n",
    "hyper_align_many = HyperAlign(\"cuda:0\")\n",
    "\n",
    "source_many = torch.tensor(source_many).float()\n",
    "target_many = torch.tensor(target_many).float()\n",
    "hyper_align_many.fit(source_many,target_many)\n",
    "\n",
    "\n",
    "aligned_source_many=hyper_align_many.align(source_many).numpy()\n",
    "\n",
    "#adjust values\n",
    "final_mean_many=target_many.mean(0)\n",
    "final_std_many=target_many.std(0)\n",
    "\n",
    "\n",
    "aligned_source_adj_many=(aligned_source_many-aligned_source_many.mean(0))/(1e-8+aligned_source_many.std(0))\n",
    "aligned_source_adj_many=final_std_many*aligned_source_adj_many+final_mean_many\n",
    "\n",
    "# print(data_np_recon_many.shape)\n",
    "\n",
    "idx=7\n",
    "\n",
    "\n",
    "fig,axs=plt.subplots(1,3,figsize=(10,3))\n",
    "\n",
    "axs[0].imshow(target_batch_many[idx].reshape(28,28))\n",
    "axs[0].set_title(\"original\")\n",
    "axs[1].imshow(pca_many.inverse_transform(source_many[idx:idx+1]).reshape(28,28))\n",
    "axs[1].set_title(\"recon\")\n",
    "\n",
    "out=pca_many.inverse_transform(aligned_source_adj_many[idx:idx+1]).reshape(28,28)\n",
    "# out=out>np.percentile(out,80)\n",
    "axs[2].imshow(out)\n",
    "axs[2].set_title(\"recon aligned\")\n",
    "\n"
   ]
  }
 ],
 "metadata": {
  "kernelspec": {
   "display_name": "deep",
   "language": "python",
   "name": "deep"
  },
  "language_info": {
   "codemirror_mode": {
    "name": "ipython",
    "version": 3
   },
   "file_extension": ".py",
   "mimetype": "text/x-python",
   "name": "python",
   "nbconvert_exporter": "python",
   "pygments_lexer": "ipython3",
   "version": "3.9.0"
  }
 },
 "nbformat": 4,
 "nbformat_minor": 5
}
