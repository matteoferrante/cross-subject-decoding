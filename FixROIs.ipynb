{
 "cells": [
  {
   "cell_type": "markdown",
   "id": "46e5cfb4-5e1a-4766-ab23-9bff1872cabd",
   "metadata": {},
   "source": [
    "## Just convert in MNI space all ROIs for all subjects"
   ]
  },
  {
   "cell_type": "code",
   "execution_count": 1,
   "id": "ded102a6-9da1-4259-9e56-dfa10b934bd0",
   "metadata": {
    "tags": []
   },
   "outputs": [
    {
     "name": "stderr",
     "output_type": "stream",
     "text": [
      "/home/matteo/anaconda3/envs/deep/lib/python3.9/site-packages/tqdm/auto.py:21: TqdmWarning: IProgress not found. Please update jupyter and ipywidgets. See https://ipywidgets.readthedocs.io/en/stable/user_install.html\n",
      "  from .autonotebook import tqdm as notebook_tqdm\n"
     ]
    }
   ],
   "source": [
    "import matplotlib.pyplot as plt\n",
    "import seaborn as sns \n",
    "import numpy    as np\n",
    "import pandas   as pd\n",
    "import os\n",
    "import nibabel as nib\n",
    "from os.path import join as opj\n",
    "\n",
    "import os\n",
    "import numpy as np\n",
    "import nibabel as nib\n",
    "import matplotlib.pyplot as plt\n",
    "from nsdcode.nsd_mapdata import NSDmapdata\n",
    "from nsdcode.nsd_datalocation import nsd_datalocation\n",
    "from nsdcode.nsd_output import nsd_write_fs\n",
    "from nsdcode.utils import makeimagestack\n",
    "import nilearn\n",
    "import nibabel as nib\n",
    "from nilearn.image import resample_to_img\n",
    "from nilearn.image import mean_img\n",
    "from nilearn import plotting\n",
    "import glob\n",
    "from nilearn.maskers import NiftiMasker\n",
    "from sklearn.preprocessing import StandardScaler, RobustScaler\n",
    "from decoding import *\n"
   ]
  },
  {
   "cell_type": "code",
   "execution_count": 18,
   "id": "4bb87164-72e5-4356-9e74-5ff54c312c5c",
   "metadata": {
    "tags": []
   },
   "outputs": [],
   "source": [
    "target_idx=7\n",
    "\n",
    "standard_space=\"/home/matteo/fsl/data/standard/MNI152_T1_2mm_brain.nii.gz\""
   ]
  },
  {
   "cell_type": "code",
   "execution_count": 19,
   "id": "710d62da-0542-4a30-a5a7-ec28df877c51",
   "metadata": {
    "tags": []
   },
   "outputs": [
    {
     "name": "stderr",
     "output_type": "stream",
     "text": [
      "  0%|                                                                                                                               | 0/1 [00:00<?, ?it/s]"
     ]
    },
    {
     "name": "stdout",
     "output_type": "stream",
     "text": [
      "saving image in MNI space\n"
     ]
    },
    {
     "name": "stderr",
     "output_type": "stream",
     "text": [
      "100%|███████████████████████████████████████████████████████████████████████████████████████████████████████████████████████| 1/1 [00:01<00:00,  1.47s/it]\n"
     ]
    }
   ],
   "source": [
    "\n",
    "# img_mean=mean_img([i for i in glob.glob(opj(f\"/home/matteo/data/NSD/nsddata_betas/ppdata/subj01/func1pt8mm/betas_assumehrf\",\"*.nii.gz\")) if \"betas\" in i][0])\n",
    "# data=img_mean.get_fdata()\n",
    "base_path=\"/home/matteo/data/NSD/\"\n",
    "\n",
    "roi_path=opj(\"/home/matteo/data/NSD/\",\"nsddata\",\"ppdata\",\"subj01\",\"func1pt8mm\",\"roi\")\n",
    "\n",
    "rois=[\"prf-visualrois.nii.gz\",\n",
    "\"floc-faces.nii.gz\",\n",
    "\"floc-bodies.nii.gz\",\n",
    "\"floc-places.nii.gz\",\n",
    "\"floc-words.nii.gz\",\n",
    "\"lh.floc-bodies.nii.gz\",   \n",
    "\"lh.floc-faces.nii.gz\",       \n",
    "\"lh.floc-places.nii.gz\",   \n",
    "\"lh.floc-words.nii.gz\",   \n",
    "\"lh.prf-visualrois.nii.gz\",\n",
    "\"rh.floc-bodies.nii.gz\",   \n",
    "\"rh.floc-faces.nii.gz\",       \n",
    "\"rh.floc-places.nii.gz\",   \n",
    "\"rh.floc-words.nii.gz\",   \n",
    "\"rh.prf-visualrois.nii.gz\"]\n",
    "\n",
    "\n",
    "subrois={\"floc-bodies\": [\"EBA\",\"FBA-1\",\"FBA-2\",\"mTL-bodies\"],\n",
    "         \"floc-faces\" : [\"OFA\",\"FFA-1\",\"FFA-2\",\"mTL-faces\",\"aTL-faces\"],\n",
    "         \"floc-places\" : [\"OPA\",\"PPA\",\"RSC\"],\n",
    "         \"floc-words\" : [\"OVWFA\", \"VWFA-1\",\"VWFA-2\",\"msf-words\",\"mTL-words\"],\n",
    "         \"prf-visualrois\":[\"V1d\",\"V1v\",\"V2d\",\"V2v\",\"V3d\",\"V3v\",\"hV4\"],\n",
    "        }\n",
    "\n",
    "for r in tqdm.tqdm(rois,0):\n",
    "\n",
    "    # initiate NSDmapdata\n",
    "    nsd = NSDmapdata(base_path)\n",
    "\n",
    "    sourcespace = 'func1pt8'\n",
    "    sourcedata = opj(roi_path,r)\n",
    "    targetspace = 'MNI'\n",
    "    targetdata = nsd.fit(\n",
    "        target_idx,\n",
    "        sourcespace,\n",
    "        targetspace,\n",
    "        sourcedata,\n",
    "        interptype='nearest',\n",
    "        badval=0,\n",
    "        outputfile=f'rois/roi_subj{target_idx}_{r}')\n",
    "\n",
    "    test_res=nilearn.image.resample_to_img(nib.load(f'rois/roi_subj{target_idx}_{r}'), nib.load(standard_space),interpolation=\"nearest\")\n",
    "    nib.save(test_res,f'rois/roi_subj{target_idx}_{r}')\n",
    "\n",
    "# rois={}\n",
    "# roi_names=[]\n",
    "# roi_corr=[]\n",
    "# roi_corr_std=[]\n",
    "# cmap=corr_map.get_fdata()\n",
    "# for roi in tqdm.tqdm(subrois.keys()):\n",
    "    \n",
    "#     roi_img=nib.load(opj(roi_path,f\"{roi}.nii.gz\")).get_fdata()\n",
    "    \n",
    "#     for i,subroi in enumerate(subrois[roi]):\n",
    "    \n",
    "#         roi_name=subroi\n",
    "#         roi_names.append(roi_name)\n",
    "#         rois[roi_name]=nib.Nifti1Image((roi_img==i+1)*1., affine=img_mean.affine)"
   ]
  }
 ],
 "metadata": {
  "kernelspec": {
   "display_name": "deep",
   "language": "python",
   "name": "deep"
  },
  "language_info": {
   "codemirror_mode": {
    "name": "ipython",
    "version": 3
   },
   "file_extension": ".py",
   "mimetype": "text/x-python",
   "name": "python",
   "nbconvert_exporter": "python",
   "pygments_lexer": "ipython3",
   "version": "3.9.0"
  }
 },
 "nbformat": 4,
 "nbformat_minor": 5
}
