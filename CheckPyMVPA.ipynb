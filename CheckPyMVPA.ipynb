{
 "cells": [
  {
   "cell_type": "markdown",
   "id": "ef4b71fe-0054-4017-a444-70a41f7f4f5e",
   "metadata": {},
   "source": [
    "## Check of alignment with pymvpa"
   ]
  },
  {
   "cell_type": "markdown",
   "id": "154ef2cb-7f95-42d4-a89b-95dae28a5b31",
   "metadata": {},
   "source": [
    "## MVPA 2 non va"
   ]
  },
  {
   "cell_type": "code",
   "execution_count": 4,
   "id": "0bc62931-9661-4dbc-9d35-4c035a9df1c0",
   "metadata": {
    "tags": []
   },
   "outputs": [],
   "source": [
    "%pip install pymvpa2"
   ]
  },
  {
   "cell_type": "code",
   "execution_count": 28,
   "id": "a5177127-10f4-41b8-9c4e-333e30711233",
   "metadata": {
    "tags": []
   },
   "outputs": [
    {
     "ename": "ImportError",
     "evalue": "cannot import name 'datasets' from 'mvpa2.datasets' (/home/matteo/anaconda3/envs/braindiff/lib/python3.8/site-packages/mvpa2/datasets/__init__.py)",
     "output_type": "error",
     "traceback": [
      "\u001b[0;31m---------------------------------------------------------------------------\u001b[0m",
      "\u001b[0;31mImportError\u001b[0m                               Traceback (most recent call last)",
      "\u001b[0;32m/tmp/ipykernel_3589898/2738085555.py\u001b[0m in \u001b[0;36m<module>\u001b[0;34m\u001b[0m\n\u001b[1;32m     24\u001b[0m \u001b[0mget_ipython\u001b[0m\u001b[0;34m(\u001b[0m\u001b[0;34m)\u001b[0m\u001b[0;34m.\u001b[0m\u001b[0mrun_line_magic\u001b[0m\u001b[0;34m(\u001b[0m\u001b[0;34m'matplotlib'\u001b[0m\u001b[0;34m,\u001b[0m \u001b[0;34m'inline'\u001b[0m\u001b[0;34m)\u001b[0m\u001b[0;34m\u001b[0m\u001b[0;34m\u001b[0m\u001b[0m\n\u001b[1;32m     25\u001b[0m \u001b[0;32mfrom\u001b[0m \u001b[0mos\u001b[0m \u001b[0;32mimport\u001b[0m \u001b[0mmakedirs\u001b[0m\u001b[0;34m\u001b[0m\u001b[0;34m\u001b[0m\u001b[0m\n\u001b[0;32m---> 26\u001b[0;31m \u001b[0;32mfrom\u001b[0m \u001b[0mmvpa2\u001b[0m\u001b[0;34m.\u001b[0m\u001b[0mdatasets\u001b[0m \u001b[0;32mimport\u001b[0m \u001b[0mdatasets\u001b[0m\u001b[0;34m\u001b[0m\u001b[0;34m\u001b[0m\u001b[0m\n\u001b[0m",
      "\u001b[0;31mImportError\u001b[0m: cannot import name 'datasets' from 'mvpa2.datasets' (/home/matteo/anaconda3/envs/braindiff/lib/python3.8/site-packages/mvpa2/datasets/__init__.py)"
     ]
    }
   ],
   "source": [
    "from mvpa2.algorithms.hyperalignment import Hyperalignment\n",
    "import os\n",
    "import glob\n",
    "import numpy as np\n",
    "import pandas as pd\n",
    "import seaborn as sns\n",
    "# from nltools.mask import create_sphere, expand_mask\n",
    "# from nltools.data import Brain_Data, Adjacency\n",
    "# from nltools.stats import align\n",
    "import matplotlib.pyplot as plt\n",
    "import matplotlib.gridspec as gridspec\n",
    "import warnings\n",
    "# from mvpa2.suite import \n",
    "import numpy as np\n",
    "from sklearn.linear_model import RidgeCV\n",
    "import numpy as np\n",
    "import torch\n",
    "from os.path import join as opj\n",
    "from transformers import AutoProcessor, CLIPTextModel\n",
    "import tqdm\n",
    "from sklearn.cluster import KMeans\n",
    "from sklearn.model_selection import train_test_split\n",
    "# from hyperalign import align\n",
    "%matplotlib inline\n",
    "from os import makedirs\n"
   ]
  },
  {
   "cell_type": "code",
   "execution_count": 7,
   "id": "3c0c80ca-8b0d-4963-b4d4-bb3f8410d68a",
   "metadata": {
    "tags": []
   },
   "outputs": [],
   "source": [
    "source_idx=2\n",
    "target_idx=1"
   ]
  },
  {
   "cell_type": "code",
   "execution_count": 8,
   "id": "84a8464d-0e04-4214-8b49-ddefea1c2d68",
   "metadata": {
    "tags": []
   },
   "outputs": [],
   "source": [
    "source_test_data=f\"/home/matteo/data/NSD/processed_roi/subj0{source_idx}/MNI/nsd_test_fmriavg_nsdgeneral_sub{source_idx}.npy\"\n",
    "source_train_data=f\"/home/matteo/data/NSD/processed_roi/subj0{source_idx}/MNI/nsd_train_fmriavg_nsdgeneral_sub{source_idx}.npy\"\n",
    "source_test_imgs=f\"/home/matteo/data/NSD/processed_roi/subj0{source_idx}/MNI/nsd_test_stim_sub{source_idx}.npy\"\n",
    "\n",
    "target_test_data=f\"/home/matteo/data/NSD/processed_roi/subj0{target_idx}/MNI/nsd_test_fmriavg_nsdgeneral_sub{target_idx}.npy\"\n"
   ]
  },
  {
   "cell_type": "code",
   "execution_count": 9,
   "id": "7794f00b-2edc-4188-9d62-1deec95d450a",
   "metadata": {
    "tags": []
   },
   "outputs": [],
   "source": [
    "os.makedirs(f\"/home/matteo/data/NSD/processed_roi/CHECK/subj0{source_idx}/aligned_to_subj0{target_idx}\",exist_ok=True)"
   ]
  },
  {
   "cell_type": "code",
   "execution_count": 10,
   "id": "88a36e3b-8269-46d1-a724-e3f0e9c39445",
   "metadata": {
    "tags": []
   },
   "outputs": [],
   "source": [
    "source_imgs=np.load(source_test_imgs)\n",
    "source_test=np.load(source_test_data)\n",
    "source_train=np.load(source_train_data)\n",
    "\n",
    "\n",
    "target_test=np.load(target_test_data)\n",
    "\n",
    "## Remove useful indices \n",
    "indices=[25,31,68,121,126,318,384,492,531,606,702,860]\n",
    "\n",
    "indices2=[70,116,165,261,278,363,451,774]\n",
    "indices3=[41,205,230,411,428,446,502,777]\n",
    "extra=[95,905]\n",
    "comparison_indices=indices+indices2+indices3+extra\n",
    "\n",
    "align_indices=[i for i in  range(len(source_test)) if i not in comparison_indices]\n",
    "\n",
    "comparison_source=source_test[comparison_indices]\n",
    "\n",
    "## keep only align indices\n",
    "source_test=source_test[align_indices]\n",
    "target_test=target_test[align_indices]"
   ]
  },
  {
   "cell_type": "code",
   "execution_count": 12,
   "id": "0035bc86-f35d-4cb9-9cc7-18988f1a82af",
   "metadata": {
    "tags": []
   },
   "outputs": [],
   "source": [
    "comparison_imgs=source_imgs[comparison_indices]\n",
    "base_path=\"/home/matteo/brain-diffuser/data\"\n",
    "\n",
    "processed_data=opj(base_path,\"processed_data\",f\"subj0{target_idx}\")\n",
    "captions_test_data=opj(processed_data, f\"nsd_test_cap_sub{target_idx}.npy\")\n",
    "test_captions=np.load(captions_test_data,allow_pickle=True)\n",
    "test_captions=[i[0] for i in test_captions]\n",
    "test_captions=list(np.array(test_captions)[align_indices])"
   ]
  },
  {
   "cell_type": "code",
   "execution_count": 26,
   "id": "e4685ede-27a0-4821-abf8-6a8dbf6e7152",
   "metadata": {
    "tags": []
   },
   "outputs": [
    {
     "ename": "AttributeError",
     "evalue": "'numpy.ndarray' object has no attribute 'nfeatures'",
     "output_type": "error",
     "traceback": [
      "\u001b[0;31m---------------------------------------------------------------------------\u001b[0m",
      "\u001b[0;31mAttributeError\u001b[0m                            Traceback (most recent call last)",
      "\u001b[0;32m/tmp/ipykernel_3589898/2017893698.py\u001b[0m in \u001b[0;36m<module>\u001b[0;34m\u001b[0m\n\u001b[1;32m      1\u001b[0m \u001b[0mhyper_align\u001b[0m \u001b[0;34m=\u001b[0m \u001b[0mHyperalignment\u001b[0m\u001b[0;34m(\u001b[0m\u001b[0;34m)\u001b[0m\u001b[0;34m\u001b[0m\u001b[0;34m\u001b[0m\u001b[0m\n\u001b[1;32m      2\u001b[0m \u001b[0mhyper_align\u001b[0m\u001b[0;34m.\u001b[0m\u001b[0mcommonspace\u001b[0m\u001b[0;34m=\u001b[0m\u001b[0;36m0\u001b[0m\u001b[0;34m\u001b[0m\u001b[0;34m\u001b[0m\u001b[0m\n\u001b[0;32m----> 3\u001b[0;31m \u001b[0mhyper_align\u001b[0m\u001b[0;34m.\u001b[0m\u001b[0mtrain\u001b[0m\u001b[0;34m(\u001b[0m\u001b[0;34m[\u001b[0m\u001b[0mtarget_test\u001b[0m\u001b[0;34m,\u001b[0m\u001b[0msource_test\u001b[0m\u001b[0;34m]\u001b[0m\u001b[0;34m)\u001b[0m\u001b[0;34m\u001b[0m\u001b[0;34m\u001b[0m\u001b[0m\n\u001b[0m",
      "\u001b[0;32m~/anaconda3/envs/braindiff/lib/python3.8/site-packages/mvpa2/algorithms/hyperalignment.py\u001b[0m in \u001b[0;36mtrain\u001b[0;34m(self, datasets)\u001b[0m\n\u001b[1;32m    235\u001b[0m \u001b[0;34m\u001b[0m\u001b[0m\n\u001b[1;32m    236\u001b[0m         \u001b[0mndatasets\u001b[0m \u001b[0;34m=\u001b[0m \u001b[0mlen\u001b[0m\u001b[0;34m(\u001b[0m\u001b[0mdatasets\u001b[0m\u001b[0;34m)\u001b[0m\u001b[0;34m\u001b[0m\u001b[0;34m\u001b[0m\u001b[0m\n\u001b[0;32m--> 237\u001b[0;31m         \u001b[0mnfeatures\u001b[0m \u001b[0;34m=\u001b[0m \u001b[0;34m[\u001b[0m\u001b[0mds\u001b[0m\u001b[0;34m.\u001b[0m\u001b[0mnfeatures\u001b[0m \u001b[0;32mfor\u001b[0m \u001b[0mds\u001b[0m \u001b[0;32min\u001b[0m \u001b[0mdatasets\u001b[0m\u001b[0;34m]\u001b[0m\u001b[0;34m\u001b[0m\u001b[0;34m\u001b[0m\u001b[0m\n\u001b[0m\u001b[1;32m    238\u001b[0m         \u001b[0malpha\u001b[0m \u001b[0;34m=\u001b[0m \u001b[0mparams\u001b[0m\u001b[0;34m.\u001b[0m\u001b[0malpha\u001b[0m\u001b[0;34m\u001b[0m\u001b[0;34m\u001b[0m\u001b[0m\n\u001b[1;32m    239\u001b[0m \u001b[0;34m\u001b[0m\u001b[0m\n",
      "\u001b[0;32m~/anaconda3/envs/braindiff/lib/python3.8/site-packages/mvpa2/algorithms/hyperalignment.py\u001b[0m in \u001b[0;36m<listcomp>\u001b[0;34m(.0)\u001b[0m\n\u001b[1;32m    235\u001b[0m \u001b[0;34m\u001b[0m\u001b[0m\n\u001b[1;32m    236\u001b[0m         \u001b[0mndatasets\u001b[0m \u001b[0;34m=\u001b[0m \u001b[0mlen\u001b[0m\u001b[0;34m(\u001b[0m\u001b[0mdatasets\u001b[0m\u001b[0;34m)\u001b[0m\u001b[0;34m\u001b[0m\u001b[0;34m\u001b[0m\u001b[0m\n\u001b[0;32m--> 237\u001b[0;31m         \u001b[0mnfeatures\u001b[0m \u001b[0;34m=\u001b[0m \u001b[0;34m[\u001b[0m\u001b[0mds\u001b[0m\u001b[0;34m.\u001b[0m\u001b[0mnfeatures\u001b[0m \u001b[0;32mfor\u001b[0m \u001b[0mds\u001b[0m \u001b[0;32min\u001b[0m \u001b[0mdatasets\u001b[0m\u001b[0;34m]\u001b[0m\u001b[0;34m\u001b[0m\u001b[0;34m\u001b[0m\u001b[0m\n\u001b[0m\u001b[1;32m    238\u001b[0m         \u001b[0malpha\u001b[0m \u001b[0;34m=\u001b[0m \u001b[0mparams\u001b[0m\u001b[0;34m.\u001b[0m\u001b[0malpha\u001b[0m\u001b[0;34m\u001b[0m\u001b[0;34m\u001b[0m\u001b[0m\n\u001b[1;32m    239\u001b[0m \u001b[0;34m\u001b[0m\u001b[0m\n",
      "\u001b[0;31mAttributeError\u001b[0m: 'numpy.ndarray' object has no attribute 'nfeatures'"
     ]
    }
   ],
   "source": [
    "hyper_align = Hyperalignment()\n",
    "hyper_align.commonspace=0\n",
    "hyper_align.train([target_test,source_test])"
   ]
  },
  {
   "cell_type": "code",
   "execution_count": 23,
   "id": "8ebe0eed-ee7b-4cb1-a1db-a0a1a820cb21",
   "metadata": {
    "tags": []
   },
   "outputs": [
    {
     "data": {
      "text/plain": [
       "(2, 952, 14197)"
      ]
     },
     "execution_count": 23,
     "metadata": {},
     "output_type": "execute_result"
    }
   ],
   "source": []
  },
  {
   "cell_type": "code",
   "execution_count": null,
   "id": "d773c71b-58f4-4fe5-bc56-23598d1d4571",
   "metadata": {},
   "outputs": [],
   "source": [
    "source = torch.tensor(source_test[v])\n",
    "target = torch.tensor(target_test[v])\n",
    "hyper_align.fit(source,target)"
   ]
  }
 ],
 "metadata": {
  "kernelspec": {
   "display_name": "braindiff",
   "language": "python",
   "name": "braindiff"
  },
  "language_info": {
   "codemirror_mode": {
    "name": "ipython",
    "version": 3
   },
   "file_extension": ".py",
   "mimetype": "text/x-python",
   "name": "python",
   "nbconvert_exporter": "python",
   "pygments_lexer": "ipython3",
   "version": "3.8.13"
  }
 },
 "nbformat": 4,
 "nbformat_minor": 5
}
