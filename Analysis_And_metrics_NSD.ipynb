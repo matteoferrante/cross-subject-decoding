{
 "cells": [
  {
   "cell_type": "markdown",
   "id": "dd1ffc45-762c-45cd-b5a1-64e8b56dac54",
   "metadata": {},
   "source": [
    "## With this Notebook I want to compute all the relevant metrics for all the images computed for the different align methods"
   ]
  },
  {
   "cell_type": "code",
   "execution_count": 1,
   "id": "b8d0db88-8766-47fa-9d7f-ada4dd9ffe35",
   "metadata": {},
   "outputs": [
    {
     "name": "stderr",
     "output_type": "stream",
     "text": [
      "/home/matteo/anaconda3/envs/braindiff/lib/python3.8/site-packages/torchvision/io/image.py:13: UserWarning: Failed to load image Python extension: libtorch_cuda_cu.so: cannot open shared object file: No such file or directory\n",
      "  warn(f\"Failed to load image Python extension: {e}\")\n"
     ]
    }
   ],
   "source": [
    "import torch\n",
    "from PIL import Image\n",
    "import wandb\n",
    "import torchmetrics\n",
    "from torchvision.models import alexnet, inception_v3\n",
    "import json\n",
    "import os\n",
    "from os.path import join as opj\n",
    "from torchvision.transforms import *\n",
    "import numpy as np\n",
    "from scipy import signal\n",
    "import tqdm\n",
    "from torchsummary import summary\n",
    "import torchextractor as tx\n",
    "from torchvision.models.feature_extraction import get_graph_node_names\n",
    "from torchvision.models.feature_extraction import create_feature_extractor\n",
    "import clip\n",
    "from torchmetrics.image.fid import FrechetInceptionDistance\n",
    "import pandas as pd\n",
    "import matplotlib.pyplot as plt\n",
    "import pickle"
   ]
  },
  {
   "cell_type": "code",
   "execution_count": 2,
   "id": "711ef877-2b4f-46bc-9ea2-b6fa6ba133bf",
   "metadata": {},
   "outputs": [],
   "source": [
    "target_run=\"eager-river-4\" \n",
    "\n",
    "api=wandb.Api()\n",
    "project=api.project(\"BrainDecodingNSD_MNI\")\n",
    "\n",
    "entity, project = \"matteoferrante\", \"BrainDecodingNSD_MNI\"  # set to your entity and project\n",
    "runs = api.runs(entity + \"/\" + project)"
   ]
  },
  {
   "cell_type": "code",
   "execution_count": 3,
   "id": "1e1e0ade-9560-437b-bc0d-72712d2ae6d2",
   "metadata": {},
   "outputs": [],
   "source": [
    "method=\"ridge\"\n",
    "fraction=100\n",
    "version=\"v1\""
   ]
  },
  {
   "cell_type": "code",
   "execution_count": 4,
   "id": "258552c3-7d63-409b-b3de-7d45aac363ef",
   "metadata": {},
   "outputs": [],
   "source": [
    "def get_data(method,fraction,version):\n",
    "    active_run=None\n",
    "    for run in api.runs(project):\n",
    "        if run.name==target_run:\n",
    "            print(f\"found {target_run}\")\n",
    "            active_run=target_run\n",
    "\n",
    "            for artifact in run.logged_artifacts():\n",
    "                artifact_path = artifact.download()\n",
    "\n",
    "                if f\"table_{method}_{fraction}:{version}\" in artifact_path:\n",
    "                    decoded_artifact=artifact_path\n",
    "                    f=open(f\"{artifact_path}/table_{method}_{fraction}.table.json\")\n",
    "                    meta = json.load(f)\n",
    "                    data=meta[\"data\"]\n",
    "                    shown=[]\n",
    "                    subj01=[]\n",
    "                    subj02=[]\n",
    "                    subj05=[]\n",
    "                    subj07=[]\n",
    "                    for i in range(len(data)):\n",
    "                        shown.append(data[i][0][\"path\"])\n",
    "                        subj01.append(data[i][1][\"path\"])\n",
    "                        subj02.append(data[i][2][\"path\"])\n",
    "                        subj05.append(data[i][3][\"path\"])\n",
    "                        subj07.append(data[i][4][\"path\"])\n",
    "\n",
    "                        # gen=[]\n",
    "                        # for j in range(1,len(data[i])):\n",
    "                        #     gen.append(data[i][j][\"path\"])\n",
    "                        # generated.append(gen)\n",
    "                    print(artifact_path)\n",
    "                    break\n",
    "            \n",
    "    return shown,subj01,subj02,subj05,subj07,decoded_artifact\n",
    "            \n",
    "            \n",
    "        "
   ]
  },
  {
   "cell_type": "code",
   "execution_count": 5,
   "id": "33d95d9d-ae89-4fd3-916b-4ebde54ce76d",
   "metadata": {},
   "outputs": [],
   "source": [
    "# shown_imgs=[Image.open(opj(decoded_artifact,i)).convert(\"RGB\") for i in shown]\n",
    "# subj01_imgs=[Image.open(opj(decoded_artifact,i)).convert(\"RGB\") for i in subj01]\n",
    "# subj02_imgs=[Image.open(opj(decoded_artifact,i)) for i in subj02]\n",
    "# subj05_imgs=[Image.open(opj(decoded_artifact,i)) for i in subj05]\n",
    "# subj07_imgs=[Image.open(opj(decoded_artifact,i)) for i in subj07]\n"
   ]
  },
  {
   "cell_type": "markdown",
   "id": "02d47916-edae-46bf-919e-969db47ccfeb",
   "metadata": {},
   "source": [
    "## Metrics for Ridge"
   ]
  },
  {
   "cell_type": "code",
   "execution_count": 6,
   "id": "aa7dd379-debd-449a-8b94-59ec39014bb4",
   "metadata": {},
   "outputs": [],
   "source": [
    "base_transform=Compose([Resize(425),ToTensor()])\n",
    "\n",
    "\n",
    "def compute_pixcorr(shown_imgs, generated_imgs):\n",
    "    pix_corr=[]\n",
    "    for x,y in tqdm.tqdm(list(zip(shown_imgs,generated_imgs))):\n",
    "        x=base_transform(x).numpy()\n",
    "        y=base_transform(y).numpy()\n",
    "        pc= np.abs(np.corrcoef(x.flatten(), y.flatten())[0][1])\n",
    "        pix_corr.append(pc)\n",
    "    return np.mean(pix_corr)\n",
    "\n",
    "\n",
    "def ssim(shown_imgs,generated_imgs):\n",
    "    ssim_metric=torchmetrics.StructuralSimilarityIndexMeasure()\n",
    "    x_torch=[base_transform(i) for i in shown_imgs]\n",
    "    y_torch=[base_transform(i) for i in generated_imgs]\n",
    "    \n",
    "    x_torch=torch.stack(x_torch)\n",
    "    y_torch=torch.stack(y_torch)\n",
    "    ssim=ssim_metric(x_torch,y_torch)\n",
    "    \n",
    "    return ssim\n",
    "\n",
    "def n_way_acc(x,y,model,n=2,device=\"cpu\",transforms=None):\n",
    "    \n",
    "    \n",
    "    model.to(device)\n",
    "    cosine=torch.nn.CosineSimilarity()\n",
    "    acc=0\n",
    "    \n",
    "    ## transform all images\n",
    "    \n",
    "    x_torch=torch.stack([transforms(i) for i in x])\n",
    "    y_torch=torch.stack([transforms(i) for i in y])\n",
    "    \n",
    "    \n",
    "    with torch.no_grad():\n",
    "        for i in tqdm.tqdm(range(len(x))):\n",
    "            \n",
    "            \n",
    "            \n",
    "            original_features=model(x_torch[i].unsqueeze(0).to(device)).cpu()\n",
    "            generated_features=model(y_torch[i].unsqueeze(0).to(device)).cpu()\n",
    "\n",
    "            rnd_idx=torch.randint(len(x),(1,)).item()\n",
    "\n",
    "            random_features=model(y_torch[rnd_idx].unsqueeze(0).to(device)).cpu()\n",
    "\n",
    "            gen_dist=cosine(original_features.reshape(len(original_features),-1),generated_features.reshape(len(generated_features),-1))\n",
    "            rnd_dist=cosine(original_features.reshape(len(original_features),-1),random_features.reshape(len(random_features),-1))\n",
    "            if gen_dist>=rnd_dist:\n",
    "                acc+=1\n",
    "    return acc/len(x)"
   ]
  },
  {
   "cell_type": "code",
   "execution_count": 7,
   "id": "e1c7b22e-4bb0-413a-a8c3-3f747c999ec7",
   "metadata": {},
   "outputs": [],
   "source": [
    "def n_way_acc_clip(x,y,model,n=2,device=\"cpu\",preprocess=None):\n",
    "    \n",
    "    cosine=torch.nn.CosineSimilarity()\n",
    "    acc=0\n",
    "    with torch.no_grad():\n",
    "        for i in tqdm.tqdm(range(len(x))):\n",
    "            \n",
    "            orig_image = preprocess(x[i]).unsqueeze(0).to(device)\n",
    "            \n",
    "            gen_image = preprocess(y[i]).unsqueeze(0).to(device)\n",
    "            \n",
    "            rnd_idx=torch.randint(len(x),(1,)).item()\n",
    "            rnd_image = preprocess(y[rnd_idx]).unsqueeze(0).to(device)\n",
    "            \n",
    "            \n",
    "            \n",
    "            original_features=model.encode_image(orig_image).cpu().double()\n",
    "            generated_features=model.encode_image(gen_image).cpu().double()\n",
    "\n",
    "\n",
    "            random_features=model.encode_image(rnd_image).cpu().double()\n",
    "\n",
    "\n",
    "            gen_dist=cosine(original_features.reshape(len(original_features),-1),generated_features.reshape(len(generated_features),-1))\n",
    "            rnd_dist=cosine(original_features.reshape(len(original_features),-1),random_features.reshape(len(random_features),-1))\n",
    "            if gen_dist>=rnd_dist:\n",
    "                acc+=1\n",
    "    return acc/len(x)"
   ]
  },
  {
   "cell_type": "code",
   "execution_count": 8,
   "id": "48233c76-a496-4348-b7e8-9c5fe6b0e963",
   "metadata": {},
   "outputs": [],
   "source": [
    "           \n",
    "    \n",
    "\n",
    "# x_torch_alexnet=torch.stack([alexnet_transforms(i) for i in shown_imgs])\n",
    "# y_torch_alexnet=torch.stack([alexnet_transforms(i) for i in first_candidates])"
   ]
  },
  {
   "cell_type": "code",
   "execution_count": 9,
   "id": "732adc63-8efe-49ca-9f25-c07bd662b022",
   "metadata": {},
   "outputs": [],
   "source": [
    "def compute_metrics(shown_imgs,gen_imgs,device=\"cpu\"):\n",
    "    \n",
    "    ##models\n",
    "    \n",
    "    alexnet_model = torch.hub.load('pytorch/vision:v0.10.0', 'alexnet', pretrained=True)\n",
    "    alexnet_model.eval()\n",
    "\n",
    "\n",
    "    alexnet_transforms=Compose([transforms.Resize(256),\n",
    "    transforms.CenterCrop(224),\n",
    "    transforms.ToTensor(),\n",
    "    transforms.Normalize(mean=[0.485, 0.456, 0.406], std=[0.229, 0.224, 0.225])])\n",
    "\n",
    "\n",
    "    inception_transforms=Compose([transforms.Resize(342),\n",
    "    transforms.CenterCrop(299),\n",
    "    transforms.ToTensor(),\n",
    "    transforms.Normalize(mean=[0.485, 0.456, 0.406], std=[0.229, 0.224, 0.225])])\n",
    "\n",
    "\n",
    "    modules_2=list(alexnet_model.children())[0][:3]\n",
    "    modules_5=list(alexnet_model.children())[0][:10]\n",
    "    alexnet_model_2=torch.nn.Sequential(*modules_2)\n",
    "    alexnet_model_5=torch.nn.Sequential(*modules_5)\n",
    "\n",
    "    inception_model=inception_v3(pretrained=True)\n",
    "\n",
    "    inception_model.fc = torch.nn.Identity()\n",
    "    inception_model.eval()\n",
    "    print() \n",
    "    \n",
    "    clip_model, preprocess = clip.load(\"ViT-B/32\", device=device)\n",
    "    \n",
    "    ##metrics\n",
    "    \n",
    "    pix_corr=compute_pixcorr(shown_imgs,gen_imgs)\n",
    "    ssim_score=ssim(shown_imgs,gen_imgs)\n",
    "    alex2=n_way_acc(shown_imgs,gen_imgs,alexnet_model_2,device=device,transforms=alexnet_transforms)\n",
    "    alex5=n_way_acc(shown_imgs,gen_imgs,alexnet_model_5,device=device,transforms=alexnet_transforms)\n",
    "    inception=n_way_acc(shown_imgs,gen_imgs,inception_model,device=device,transforms=inception_transforms)\n",
    "    clip_acc=n_way_acc_clip(shown_imgs,gen_imgs,clip_model,device=device,preprocess=preprocess)\n",
    "    \n",
    "    return [pix_corr,ssim_score.item(),alex2,alex5,inception,clip_acc]\n",
    "    "
   ]
  },
  {
   "cell_type": "code",
   "execution_count": 10,
   "id": "07650770-68f8-41c1-93b5-da305cd535c6",
   "metadata": {},
   "outputs": [],
   "source": [
    "# subj01_metrics=compute_metrics(shown_imgs,subj01_imgs,device=\"cuda:2\")"
   ]
  },
  {
   "cell_type": "code",
   "execution_count": 11,
   "id": "28fa0c21-9e10-41b2-ad76-9e8e84e13098",
   "metadata": {},
   "outputs": [
    {
     "name": "stdout",
     "output_type": "stream",
     "text": [
      "found eager-river-4\n"
     ]
    },
    {
     "name": "stderr",
     "output_type": "stream",
     "text": [
      "\u001b[34m\u001b[1mwandb\u001b[0m:   21 of 21 files downloaded.  \n",
      "\u001b[34m\u001b[1mwandb\u001b[0m:   21 of 21 files downloaded.  \n",
      "\u001b[34m\u001b[1mwandb\u001b[0m:   41 of 41 files downloaded.  \n",
      "\u001b[34m\u001b[1mwandb\u001b[0m: Downloading large artifact run-59s9cbrb-table_ridge_100:v1, 1669.57MB. 4911 files... \n",
      "\u001b[34m\u001b[1mwandb\u001b[0m:   4911 of 4911 files downloaded.  \n",
      "Done. 0:0:1.8\n"
     ]
    },
    {
     "name": "stdout",
     "output_type": "stream",
     "text": [
      "./artifacts/run-59s9cbrb-table_ridge_100:v1\n",
      "subj01 ridge 100\n"
     ]
    },
    {
     "name": "stderr",
     "output_type": "stream",
     "text": [
      "Using cache found in /home/matteo/.cache/torch/hub/pytorch_vision_v0.10.0\n",
      "/home/matteo/anaconda3/envs/braindiff/lib/python3.8/site-packages/torchvision/models/_utils.py:208: UserWarning: The parameter 'pretrained' is deprecated since 0.13 and will be removed in 0.15, please use 'weights' instead.\n",
      "  warnings.warn(\n",
      "/home/matteo/anaconda3/envs/braindiff/lib/python3.8/site-packages/torchvision/models/_utils.py:223: UserWarning: Arguments other than a weight enum or `None` for 'weights' are deprecated since 0.13 and will be removed in 0.15. The current behavior is equivalent to passing `weights=AlexNet_Weights.IMAGENET1K_V1`. You can also use `weights=AlexNet_Weights.DEFAULT` to get the most up-to-date weights.\n",
      "  warnings.warn(msg)\n",
      "/home/matteo/anaconda3/envs/braindiff/lib/python3.8/site-packages/torchvision/models/_utils.py:223: UserWarning: Arguments other than a weight enum or `None` for 'weights' are deprecated since 0.13 and will be removed in 0.15. The current behavior is equivalent to passing `weights=Inception_V3_Weights.IMAGENET1K_V1`. You can also use `weights=Inception_V3_Weights.DEFAULT` to get the most up-to-date weights.\n",
      "  warnings.warn(msg)\n"
     ]
    },
    {
     "name": "stdout",
     "output_type": "stream",
     "text": [
      "\n"
     ]
    },
    {
     "name": "stderr",
     "output_type": "stream",
     "text": [
      "100%|████████████████████████████████████████| 982/982 [00:07<00:00, 132.27it/s]\n",
      "100%|████████████████████████████████████████| 982/982 [00:04<00:00, 220.81it/s]\n",
      "100%|████████████████████████████████████████| 982/982 [00:03<00:00, 299.21it/s]\n",
      "100%|█████████████████████████████████████████| 982/982 [00:22<00:00, 42.84it/s]\n",
      "100%|█████████████████████████████████████████| 982/982 [00:35<00:00, 27.35it/s]\n"
     ]
    },
    {
     "name": "stdout",
     "output_type": "stream",
     "text": [
      "subj02 ridge 100\n"
     ]
    },
    {
     "name": "stderr",
     "output_type": "stream",
     "text": [
      "Using cache found in /home/matteo/.cache/torch/hub/pytorch_vision_v0.10.0\n"
     ]
    },
    {
     "name": "stdout",
     "output_type": "stream",
     "text": [
      "\n"
     ]
    },
    {
     "name": "stderr",
     "output_type": "stream",
     "text": [
      "100%|████████████████████████████████████████| 982/982 [00:08<00:00, 111.05it/s]\n",
      "100%|████████████████████████████████████████| 982/982 [00:02<00:00, 434.63it/s]\n",
      "100%|████████████████████████████████████████| 982/982 [00:03<00:00, 322.95it/s]\n",
      "100%|█████████████████████████████████████████| 982/982 [00:22<00:00, 43.69it/s]\n",
      "100%|█████████████████████████████████████████| 982/982 [00:30<00:00, 32.27it/s]\n"
     ]
    },
    {
     "name": "stdout",
     "output_type": "stream",
     "text": [
      "subj05 ridge 100\n"
     ]
    },
    {
     "name": "stderr",
     "output_type": "stream",
     "text": [
      "Using cache found in /home/matteo/.cache/torch/hub/pytorch_vision_v0.10.0\n"
     ]
    },
    {
     "name": "stdout",
     "output_type": "stream",
     "text": [
      "\n"
     ]
    },
    {
     "name": "stderr",
     "output_type": "stream",
     "text": [
      "100%|████████████████████████████████████████| 982/982 [00:07<00:00, 137.59it/s]\n",
      "100%|████████████████████████████████████████| 982/982 [00:03<00:00, 301.88it/s]\n",
      "100%|████████████████████████████████████████| 982/982 [00:06<00:00, 155.32it/s]\n",
      "100%|█████████████████████████████████████████| 982/982 [00:22<00:00, 43.66it/s]\n",
      "100%|█████████████████████████████████████████| 982/982 [00:30<00:00, 32.01it/s]\n"
     ]
    },
    {
     "name": "stdout",
     "output_type": "stream",
     "text": [
      "subj07 ridge 100\n"
     ]
    },
    {
     "name": "stderr",
     "output_type": "stream",
     "text": [
      "Using cache found in /home/matteo/.cache/torch/hub/pytorch_vision_v0.10.0\n"
     ]
    },
    {
     "name": "stdout",
     "output_type": "stream",
     "text": [
      "\n"
     ]
    },
    {
     "name": "stderr",
     "output_type": "stream",
     "text": [
      "100%|████████████████████████████████████████| 982/982 [00:06<00:00, 141.40it/s]\n",
      "100%|████████████████████████████████████████| 982/982 [00:04<00:00, 200.95it/s]\n",
      "100%|█████████████████████████████████████████| 982/982 [00:12<00:00, 75.70it/s]\n",
      "100%|█████████████████████████████████████████| 982/982 [00:23<00:00, 42.59it/s]\n",
      "100%|█████████████████████████████████████████| 982/982 [00:31<00:00, 30.98it/s]\n"
     ]
    },
    {
     "name": "stdout",
     "output_type": "stream",
     "text": [
      "found eager-river-4\n"
     ]
    },
    {
     "name": "stderr",
     "output_type": "stream",
     "text": [
      "\u001b[34m\u001b[1mwandb\u001b[0m:   21 of 21 files downloaded.  \n",
      "\u001b[34m\u001b[1mwandb\u001b[0m:   21 of 21 files downloaded.  \n",
      "\u001b[34m\u001b[1mwandb\u001b[0m:   41 of 41 files downloaded.  \n",
      "\u001b[34m\u001b[1mwandb\u001b[0m: Downloading large artifact run-59s9cbrb-table_ridge_100:v1, 1669.57MB. 4911 files... \n",
      "\u001b[34m\u001b[1mwandb\u001b[0m:   4911 of 4911 files downloaded.  \n",
      "Done. 0:0:0.9\n",
      "\u001b[34m\u001b[1mwandb\u001b[0m: Downloading large artifact run-59s9cbrb-table_ridge_50:v0, 1657.90MB. 4911 files... \n",
      "\u001b[34m\u001b[1mwandb\u001b[0m:   4911 of 4911 files downloaded.  \n",
      "Done. 0:0:4.1\n"
     ]
    },
    {
     "name": "stdout",
     "output_type": "stream",
     "text": [
      "./artifacts/run-59s9cbrb-table_ridge_50:v0\n",
      "subj01 ridge 50\n"
     ]
    },
    {
     "name": "stderr",
     "output_type": "stream",
     "text": [
      "Using cache found in /home/matteo/.cache/torch/hub/pytorch_vision_v0.10.0\n"
     ]
    },
    {
     "name": "stdout",
     "output_type": "stream",
     "text": [
      "\n"
     ]
    },
    {
     "name": "stderr",
     "output_type": "stream",
     "text": [
      "100%|████████████████████████████████████████| 982/982 [00:07<00:00, 132.61it/s]\n",
      "100%|████████████████████████████████████████| 982/982 [00:02<00:00, 447.60it/s]\n",
      "100%|████████████████████████████████████████| 982/982 [00:03<00:00, 323.87it/s]\n",
      "100%|█████████████████████████████████████████| 982/982 [00:22<00:00, 43.49it/s]\n",
      "100%|█████████████████████████████████████████| 982/982 [00:33<00:00, 29.08it/s]\n"
     ]
    },
    {
     "name": "stdout",
     "output_type": "stream",
     "text": [
      "subj02 ridge 50\n"
     ]
    },
    {
     "name": "stderr",
     "output_type": "stream",
     "text": [
      "Using cache found in /home/matteo/.cache/torch/hub/pytorch_vision_v0.10.0\n"
     ]
    },
    {
     "name": "stdout",
     "output_type": "stream",
     "text": [
      "\n"
     ]
    },
    {
     "name": "stderr",
     "output_type": "stream",
     "text": [
      "100%|█████████████████████████████████████████| 982/982 [00:14<00:00, 65.91it/s]\n",
      "100%|████████████████████████████████████████| 982/982 [00:02<00:00, 401.11it/s]\n",
      "100%|████████████████████████████████████████| 982/982 [00:03<00:00, 293.15it/s]\n",
      "100%|█████████████████████████████████████████| 982/982 [00:22<00:00, 43.67it/s]\n",
      "100%|█████████████████████████████████████████| 982/982 [00:31<00:00, 31.01it/s]\n"
     ]
    },
    {
     "name": "stdout",
     "output_type": "stream",
     "text": [
      "subj05 ridge 50\n"
     ]
    },
    {
     "name": "stderr",
     "output_type": "stream",
     "text": [
      "Using cache found in /home/matteo/.cache/torch/hub/pytorch_vision_v0.10.0\n"
     ]
    },
    {
     "name": "stdout",
     "output_type": "stream",
     "text": [
      "\n"
     ]
    },
    {
     "name": "stderr",
     "output_type": "stream",
     "text": [
      "100%|████████████████████████████████████████| 982/982 [00:06<00:00, 140.46it/s]\n",
      "100%|████████████████████████████████████████| 982/982 [00:02<00:00, 388.08it/s]\n",
      "100%|████████████████████████████████████████| 982/982 [00:03<00:00, 326.16it/s]\n",
      "100%|█████████████████████████████████████████| 982/982 [00:22<00:00, 43.31it/s]\n",
      "100%|█████████████████████████████████████████| 982/982 [00:31<00:00, 31.54it/s]\n"
     ]
    },
    {
     "name": "stdout",
     "output_type": "stream",
     "text": [
      "subj07 ridge 50\n"
     ]
    },
    {
     "name": "stderr",
     "output_type": "stream",
     "text": [
      "Using cache found in /home/matteo/.cache/torch/hub/pytorch_vision_v0.10.0\n"
     ]
    },
    {
     "name": "stdout",
     "output_type": "stream",
     "text": [
      "\n"
     ]
    },
    {
     "name": "stderr",
     "output_type": "stream",
     "text": [
      "100%|████████████████████████████████████████| 982/982 [00:07<00:00, 133.40it/s]\n",
      "100%|████████████████████████████████████████| 982/982 [00:02<00:00, 445.50it/s]\n",
      "100%|████████████████████████████████████████| 982/982 [00:03<00:00, 327.04it/s]\n",
      "100%|█████████████████████████████████████████| 982/982 [00:22<00:00, 43.02it/s]\n",
      "100%|█████████████████████████████████████████| 982/982 [00:32<00:00, 29.81it/s]\n"
     ]
    },
    {
     "name": "stdout",
     "output_type": "stream",
     "text": [
      "found eager-river-4\n"
     ]
    },
    {
     "name": "stderr",
     "output_type": "stream",
     "text": [
      "\u001b[34m\u001b[1mwandb\u001b[0m:   21 of 21 files downloaded.  \n",
      "\u001b[34m\u001b[1mwandb\u001b[0m:   21 of 21 files downloaded.  \n",
      "\u001b[34m\u001b[1mwandb\u001b[0m:   41 of 41 files downloaded.  \n",
      "\u001b[34m\u001b[1mwandb\u001b[0m: Downloading large artifact run-59s9cbrb-table_ridge_100:v1, 1669.57MB. 4911 files... \n",
      "\u001b[34m\u001b[1mwandb\u001b[0m:   4911 of 4911 files downloaded.  \n",
      "Done. 0:0:0.9\n",
      "\u001b[34m\u001b[1mwandb\u001b[0m: Downloading large artifact run-59s9cbrb-table_ridge_50:v0, 1657.90MB. 4911 files... \n",
      "\u001b[34m\u001b[1mwandb\u001b[0m:   4911 of 4911 files downloaded.  \n",
      "Done. 0:0:0.9\n",
      "\u001b[34m\u001b[1mwandb\u001b[0m: Downloading large artifact run-59s9cbrb-table_ridge_25:v0, 1649.79MB. 4911 files... \n",
      "\u001b[34m\u001b[1mwandb\u001b[0m:   4911 of 4911 files downloaded.  \n",
      "Done. 0:0:4.1\n"
     ]
    },
    {
     "name": "stdout",
     "output_type": "stream",
     "text": [
      "./artifacts/run-59s9cbrb-table_ridge_25:v0\n",
      "subj01 ridge 25\n"
     ]
    },
    {
     "name": "stderr",
     "output_type": "stream",
     "text": [
      "Using cache found in /home/matteo/.cache/torch/hub/pytorch_vision_v0.10.0\n"
     ]
    },
    {
     "name": "stdout",
     "output_type": "stream",
     "text": [
      "\n"
     ]
    },
    {
     "name": "stderr",
     "output_type": "stream",
     "text": [
      "100%|████████████████████████████████████████| 982/982 [00:07<00:00, 132.34it/s]\n",
      "100%|█████████████████████████████████████████| 982/982 [00:34<00:00, 28.25it/s]\n"
     ]
    },
    {
     "name": "stdout",
     "output_type": "stream",
     "text": [
      "subj02 anat 10\n"
     ]
    },
    {
     "name": "stderr",
     "output_type": "stream",
     "text": [
      "Using cache found in /home/matteo/.cache/torch/hub/pytorch_vision_v0.10.0\n"
     ]
    },
    {
     "name": "stdout",
     "output_type": "stream",
     "text": [
      "\n"
     ]
    },
    {
     "name": "stderr",
     "output_type": "stream",
     "text": [
      "100%|████████████████████████████████████████| 982/982 [00:07<00:00, 139.78it/s]\n",
      "100%|████████████████████████████████████████| 982/982 [00:02<00:00, 449.80it/s]\n",
      "100%|████████████████████████████████████████| 982/982 [00:02<00:00, 334.51it/s]\n",
      "100%|█████████████████████████████████████████| 982/982 [00:22<00:00, 43.36it/s]\n",
      "100%|█████████████████████████████████████████| 982/982 [00:30<00:00, 32.17it/s]\n"
     ]
    },
    {
     "name": "stdout",
     "output_type": "stream",
     "text": [
      "subj05 anat 10\n"
     ]
    },
    {
     "name": "stderr",
     "output_type": "stream",
     "text": [
      "Using cache found in /home/matteo/.cache/torch/hub/pytorch_vision_v0.10.0\n"
     ]
    },
    {
     "name": "stdout",
     "output_type": "stream",
     "text": [
      "\n"
     ]
    },
    {
     "name": "stderr",
     "output_type": "stream",
     "text": [
      "100%|████████████████████████████████████████| 982/982 [00:06<00:00, 142.00it/s]\n",
      "100%|████████████████████████████████████████| 982/982 [00:02<00:00, 449.50it/s]\n",
      "100%|████████████████████████████████████████| 982/982 [00:02<00:00, 328.29it/s]\n",
      "100%|█████████████████████████████████████████| 982/982 [00:22<00:00, 43.66it/s]\n",
      "100%|█████████████████████████████████████████| 982/982 [00:34<00:00, 28.30it/s]\n"
     ]
    },
    {
     "name": "stdout",
     "output_type": "stream",
     "text": [
      "subj07 anat 10\n"
     ]
    },
    {
     "name": "stderr",
     "output_type": "stream",
     "text": [
      "Using cache found in /home/matteo/.cache/torch/hub/pytorch_vision_v0.10.0\n"
     ]
    },
    {
     "name": "stdout",
     "output_type": "stream",
     "text": [
      "\n"
     ]
    },
    {
     "name": "stderr",
     "output_type": "stream",
     "text": [
      "100%|████████████████████████████████████████| 982/982 [00:06<00:00, 142.79it/s]\n",
      "100%|████████████████████████████████████████| 982/982 [00:02<00:00, 438.63it/s]\n",
      "100%|████████████████████████████████████████| 982/982 [00:02<00:00, 331.88it/s]\n",
      "100%|█████████████████████████████████████████| 982/982 [00:22<00:00, 44.07it/s]\n",
      "100%|█████████████████████████████████████████| 982/982 [00:44<00:00, 22.10it/s]\n"
     ]
    }
   ],
   "source": [
    "metrics={\"subj01\":{\"ridge\": {100: [], 50: [], 25: [], 10: [] },\n",
    "                   \"anat\" : {10: []},\n",
    "                   \"hyper\": {100: [], 50: [], 25: [], 10: [] }},\n",
    "         \"subj02\":{\"ridge\": {100: [], 50: [], 25: [], 10: [] },\n",
    "                   \"anat\" : {10: []},\n",
    "                   \"hyper\": {100: [], 50: [], 25: [], 10: [] }},\n",
    "         \"subj05\":{\"ridge\": {100: [], 50: [], 25: [], 10: [] },\n",
    "                   \"anat\" : {10: []},\n",
    "                   \"hyper\": {100: [], 50: [], 25: [], 10: [] }},\n",
    "         \"subj07\":{\"ridge\": {100: [], 50: [], 25: [], 10: [] },\n",
    "                   \"anat\" : {10: []},\n",
    "                   \"hyper\": {100: [], 50: [], 25: [], 10: [] }},\n",
    "         \n",
    "                   \n",
    "        \n",
    "        }\n",
    "\n",
    "for method in [\"ridge\",\"hyper\",\"anat\"]:\n",
    "    for fraction in metrics[\"subj01\"][method].keys():\n",
    "    \n",
    "        if method==\"ridge\" and fraction==100:\n",
    "            version=\"v1\"\n",
    "        else:\n",
    "            version=\"v0\"\n",
    "        shown,subj01,subj02,subj05,subj07,decoded_artifact=get_data(method,fraction,version)\n",
    "        for sub_name,sub in zip([\"subj01\",\"subj02\",\"subj05\",\"subj07\"],[subj01,subj02,subj05,subj07]):\n",
    "            print(sub_name,method,fraction)\n",
    "            shown_imgs=[Image.open(opj(decoded_artifact,i)).convert(\"RGB\") for i in shown]\n",
    "            subj_imgs=[Image.open(opj(decoded_artifact,i)).convert(\"RGB\") for i in sub]\n",
    "            metrics[sub_name][method][fraction]= compute_metrics(shown_imgs,subj_imgs,device=\"cuda:2\")\n",
    "\n"
   ]
  },
  {
   "cell_type": "code",
   "execution_count": 12,
   "id": "675c2b54-48ba-4104-b13c-db6634293720",
   "metadata": {},
   "outputs": [
    {
     "data": {
      "text/plain": [
       "dict_keys([10])"
      ]
     },
     "execution_count": 12,
     "metadata": {},
     "output_type": "execute_result"
    }
   ],
   "source": [
    "metrics[\"subj01\"][method].keys()"
   ]
  },
  {
   "cell_type": "code",
   "execution_count": 13,
   "id": "870d59ac-9096-423b-b9da-d726783cf9c1",
   "metadata": {},
   "outputs": [
    {
     "data": {
      "text/plain": [
       "{'subj01': {'ridge': {100: [0.2876757486217525,\n",
       "    0.2681344449520111,\n",
       "    0.8472505091649695,\n",
       "    0.9633401221995926,\n",
       "    0.8961303462321792,\n",
       "    0.9368635437881874],\n",
       "   50: [0.28884210126856635,\n",
       "    0.2678889036178589,\n",
       "    0.845213849287169,\n",
       "    0.960285132382892,\n",
       "    0.9073319755600815,\n",
       "    0.9429735234215886],\n",
       "   25: [0.28872577134597177,\n",
       "    0.2685271203517914,\n",
       "    0.8492871690427699,\n",
       "    0.960285132382892,\n",
       "    0.9022403258655805,\n",
       "    0.9460285132382892],\n",
       "   10: [0.2873925456361009,\n",
       "    0.268315851688385,\n",
       "    0.8472505091649695,\n",
       "    0.9663951120162932,\n",
       "    0.9205702647657841,\n",
       "    0.9460285132382892]},\n",
       "  'anat': {10: [0.28687712824614126,\n",
       "    0.2679815888404846,\n",
       "    0.8533604887983707,\n",
       "    0.9623217922606925,\n",
       "    0.8971486761710794,\n",
       "    0.955193482688391]},\n",
       "  'hyper': {100: [0.2863068697070344,\n",
       "    0.267689973115921,\n",
       "    0.845213849287169,\n",
       "    0.9572301425661914,\n",
       "    0.8930753564154786,\n",
       "    0.9501018329938901],\n",
       "   50: [0.28606812641908064,\n",
       "    0.2683436870574951,\n",
       "    0.8533604887983707,\n",
       "    0.945010183299389,\n",
       "    0.9175152749490835,\n",
       "    0.9572301425661914],\n",
       "   25: [0.28919986617719506,\n",
       "    0.268582284450531,\n",
       "    0.8370672097759674,\n",
       "    0.9694501018329938,\n",
       "    0.895112016293279,\n",
       "    0.9511201629327902],\n",
       "   10: [0.2891569296287889,\n",
       "    0.2683488428592682,\n",
       "    0.8492871690427699,\n",
       "    0.9592668024439919,\n",
       "    0.9032586558044806,\n",
       "    0.9490835030549898]}},\n",
       " 'subj02': {'ridge': {100: [0.2880282051749268,\n",
       "    0.26757654547691345,\n",
       "    0.8391038696537678,\n",
       "    0.9562118126272913,\n",
       "    0.8930753564154786,\n",
       "    0.955193482688391],\n",
       "   50: [0.2500670836867595,\n",
       "    0.2602829933166504,\n",
       "    0.8105906313645621,\n",
       "    0.9154786150712831,\n",
       "    0.8268839103869654,\n",
       "    0.8747454175152749],\n",
       "   25: [0.2225202037324676,\n",
       "    0.25342220067977905,\n",
       "    0.7372708757637475,\n",
       "    0.8716904276985743,\n",
       "    0.7912423625254582,\n",
       "    0.829938900203666],\n",
       "   10: [0.20144113513262576,\n",
       "    0.24448351562023163,\n",
       "    0.709775967413442,\n",
       "    0.8054989816700611,\n",
       "    0.7036659877800407,\n",
       "    0.7657841140529531]},\n",
       "  'anat': {10: [0.11295886256857979,\n",
       "    0.16541478037834167,\n",
       "    0.5020366598778004,\n",
       "    0.5560081466395111,\n",
       "    0.5132382892057027,\n",
       "    0.5733197556008147]},\n",
       "  'hyper': {100: [0.17394649626833406,\n",
       "    0.21918059885501862,\n",
       "    0.4908350305498982,\n",
       "    0.5061099796334012,\n",
       "    0.48778004073319753,\n",
       "    0.5224032586558045],\n",
       "   50: [0.17365113838740961,\n",
       "    0.21973489224910736,\n",
       "    0.49287169042769857,\n",
       "    0.4969450101832994,\n",
       "    0.5132382892057027,\n",
       "    0.5010183299389002],\n",
       "   25: [0.1664359589539281,\n",
       "    0.21948739886283875,\n",
       "    0.49490835030549896,\n",
       "    0.4989816700610998,\n",
       "    0.4531568228105906,\n",
       "    0.4979633401221996],\n",
       "   10: [0.16832001987085082,\n",
       "    0.2164234220981598,\n",
       "    0.4684317718940937,\n",
       "    0.48676171079429736,\n",
       "    0.4816700610997963,\n",
       "    0.48778004073319753]}},\n",
       " 'subj05': {'ridge': {100: [0.2837984133820517,\n",
       "    0.26746687293052673,\n",
       "    0.8360488798370672,\n",
       "    0.9531568228105907,\n",
       "    0.9042769857433809,\n",
       "    0.9378818737270875],\n",
       "   50: [0.24215056016091407,\n",
       "    0.25722724199295044,\n",
       "    0.7627291242362525,\n",
       "    0.9124236252545825,\n",
       "    0.8594704684317719,\n",
       "    0.9032586558044806],\n",
       "   25: [0.22306258792263117,\n",
       "    0.2517065703868866,\n",
       "    0.7311608961303462,\n",
       "    0.8472505091649695,\n",
       "    0.7841140529531568,\n",
       "    0.8706720977596741],\n",
       "   10: [0.20100311368452817,\n",
       "    0.2416488230228424,\n",
       "    0.6914460285132383,\n",
       "    0.8167006109979633,\n",
       "    0.7291242362525459,\n",
       "    0.8197556008146639]},\n",
       "  'anat': {10: [0.05768884649552192,\n",
       "    0.021029751747846603,\n",
       "    0.5122199592668024,\n",
       "    0.5295315682281059,\n",
       "    0.5183299389002036,\n",
       "    0.539714867617108]},\n",
       "  'hyper': {100: [0.16806330605562897,\n",
       "    0.21701489388942719,\n",
       "    0.49490835030549896,\n",
       "    0.48065173116089616,\n",
       "    0.5,\n",
       "    0.47657841140529533],\n",
       "   50: [0.17605534215004023,\n",
       "    0.2195391207933426,\n",
       "    0.48879837067209775,\n",
       "    0.5101832993890021,\n",
       "    0.49287169042769857,\n",
       "    0.5173116089613035],\n",
       "   25: [0.17191777147296583,\n",
       "    0.22182179987430573,\n",
       "    0.5213849287169042,\n",
       "    0.5101832993890021,\n",
       "    0.505091649694501,\n",
       "    0.4786150712830957],\n",
       "   10: [0.17011406491217024,\n",
       "    0.2198752611875534,\n",
       "    0.5020366598778004,\n",
       "    0.5203665987780041,\n",
       "    0.4938900203665988,\n",
       "    0.5071283095723014]}},\n",
       " 'subj07': {'ridge': {100: [0.2833516396800218,\n",
       "    0.2663029134273529,\n",
       "    0.8513238289205702,\n",
       "    0.9572301425661914,\n",
       "    0.9103869653767821,\n",
       "    0.9185336048879837],\n",
       "   50: [0.24880000657492882,\n",
       "    0.259301096200943,\n",
       "    0.774949083503055,\n",
       "    0.9124236252545825,\n",
       "    0.8268839103869654,\n",
       "    0.905295315682281],\n",
       "   25: [0.22265546173521839,\n",
       "    0.2520233690738678,\n",
       "    0.7474541751527495,\n",
       "    0.8706720977596741,\n",
       "    0.754582484725051,\n",
       "    0.8279022403258656],\n",
       "   10: [0.19966443592141497,\n",
       "    0.24078452587127686,\n",
       "    0.675152749490835,\n",
       "    0.7953156822810591,\n",
       "    0.7026476578411406,\n",
       "    0.7576374745417516]},\n",
       "  'anat': {10: [0.14012442413834175,\n",
       "    0.2041017711162567,\n",
       "    0.5509164969450102,\n",
       "    0.575356415478615,\n",
       "    0.5417515274949084,\n",
       "    0.575356415478615]},\n",
       "  'hyper': {100: [0.17051097771342913,\n",
       "    0.21720072627067566,\n",
       "    0.5010183299389002,\n",
       "    0.5,\n",
       "    0.5254582484725051,\n",
       "    0.4847250509164969],\n",
       "   50: [0.17058540615210846,\n",
       "    0.22137585282325745,\n",
       "    0.5244399185336049,\n",
       "    0.5183299389002036,\n",
       "    0.5122199592668024,\n",
       "    0.5193482688391039],\n",
       "   25: [0.1758819131529425,\n",
       "    0.21655899286270142,\n",
       "    0.49287169042769857,\n",
       "    0.5213849287169042,\n",
       "    0.5213849287169042,\n",
       "    0.47963340122199594],\n",
       "   10: [0.175224427394767,\n",
       "    0.21859705448150635,\n",
       "    0.4959266802443992,\n",
       "    0.5162932790224033,\n",
       "    0.5081466395112016,\n",
       "    0.48879837067209775]}}}"
      ]
     },
     "execution_count": 13,
     "metadata": {},
     "output_type": "execute_result"
    }
   ],
   "source": [
    "metrics"
   ]
  },
  {
   "cell_type": "code",
   "execution_count": 14,
   "id": "0f62bf05-3410-42e6-88a5-ec00ef41dfb6",
   "metadata": {},
   "outputs": [],
   "source": [
    "with open(\"metrics.sav\",\"wb\") as f:\n",
    "    pickle.dump(metrics,f)"
   ]
  },
  {
   "cell_type": "code",
   "execution_count": 15,
   "id": "db06b2a9-40fb-4e01-b698-b552c6bacfbb",
   "metadata": {
    "tags": []
   },
   "outputs": [
    {
     "data": {
      "text/plain": [
       "95.2"
      ]
     },
     "execution_count": 15,
     "metadata": {},
     "output_type": "execute_result"
    }
   ],
   "source": [
    "952/10"
   ]
  },
  {
   "cell_type": "code",
   "execution_count": 16,
   "id": "2ff6b587-e114-4962-bc15-595517e6ae2d",
   "metadata": {},
   "outputs": [
    {
     "data": {
      "text/plain": [
       "<matplotlib.legend.Legend at 0x7f59ab794190>"
      ]
     },
     "execution_count": 16,
     "metadata": {},
     "output_type": "execute_result"
    },
    {
     "data": {
      "image/png": "[encoded data removed]",
      "text/plain": [
       "<Figure size 1440x1440 with 6 Axes>"
      ]
     },
     "metadata": {
      "needs_background": "light"
     },
     "output_type": "display_data"
    }
   ],
   "source": [
    "fig,axs=plt.subplots(3,2,figsize=(20,20))\n",
    "metric_names=[\"pix_corr\",\"ssim\",\"alexnet_2\",\"alexnet_5\",\"inception\",\"clip\"]\n",
    "\n",
    "fractions=[95, 238 ,476,952]\n",
    "\n",
    "for i, ax in enumerate(axs.ravel()):\n",
    "    ax.set_title(metric_names[i])\n",
    "    \n",
    "    target=np.stack([[metrics[\"subj01\"][\"ridge\"][f][i] for f in [10,25,50,100]],[metrics[\"subj01\"][\"anat\"][f][i] for f in [10]*4],[metrics[\"subj01\"][\"hyper\"][f][i] for f in [10,25,50,100]]])\n",
    "    target_mean=target.mean(0)\n",
    "    target_std=target.std(0)\n",
    "\n",
    "    # ax.plot([10,25,50,100],[metrics[\"subj01\"][\"ridge\"][f][i] for f in [10,25,50,100]],label=\"target_subj\")\n",
    "    ax.plot(fractions,target_mean,color=\"tab:blue\",label=\"target\")\n",
    "    ax.fill_between(fractions,target_mean+target_std,target_mean-target_std,alpha=0.6,color=\"tab:blue\")\n",
    "\n",
    "    \n",
    "    others_ridge=np.stack([[metrics[\"subj02\"][\"ridge\"][f][i] for f in [10,25,50,100]],[metrics[\"subj05\"][\"ridge\"][f][i] for f in [10,25,50,100]],[metrics[\"subj07\"][\"ridge\"][f][i] for f in [10,25,50,100]]])\n",
    "    others_ridge_mean=others_ridge.mean(0)\n",
    "    \n",
    "    others_hyper=np.stack([[metrics[\"subj02\"][\"hyper\"][f][i] for f in [10,25,50,100]],[metrics[\"subj05\"][\"hyper\"][f][i] for f in [10,25,50,100]],[metrics[\"subj07\"][\"hyper\"][f][i] for f in [10,25,50,100]]])\n",
    "    others_hyper_mean=others_hyper.mean(0)\n",
    "    \n",
    "    others_anat=np.stack([[metrics[\"subj02\"][\"anat\"][f][i] for f in [10]*4],[metrics[\"subj05\"][\"anat\"][f][i] for f in [10]*4],[metrics[\"subj07\"][\"anat\"][f][i] for f in [10]*4]])\n",
    "    others_anat_mean=others_anat.mean(0)\n",
    "    \n",
    "    \n",
    "    ax.plot(fractions,others_ridge_mean,label=\"ridge\",color=\"tab:orange\")\n",
    "    ax.fill_between(fractions,others_ridge_mean+others_ridge.std(0),others_ridge_mean-others_ridge.std(0),alpha=0.6,color=\"orange\")\n",
    "    \n",
    "    ax.plot(fractions,others_hyper_mean,label=\"hyper\",color=\"green\")\n",
    "    ax.fill_between(fractions,others_hyper_mean+others_hyper.std(0),others_hyper_mean-others_hyper.std(0),alpha=0.6,color=\"green\")\n",
    "    \n",
    "    ax.plot(fractions,others_anat_mean,label=\"anat\",color=\"gray\")\n",
    "    # ax.fill_between([10,25,50,100],others_anat_mean+others_anat.std(0),others_anat_mean-others_anat.std(0),alpha=0.6,color=\"yellow\")\n",
    "    ax.legend()\n",
    "    \n",
    "    ax.set_xlabel(\"Number of images used for alignment\")\n",
    "    ax.set_ylabel(\"value\")\n",
    "\n",
    "    \n",
    "    \n",
    "plt.legend()\n",
    "# plt.plot([10,25,50,100],[metrics[\"subj07\"][\"ridge\"][f][5] for f in [10,25,50,100]])"
   ]
  },
  {
   "cell_type": "code",
   "execution_count": 17,
   "id": "c452f129-6735-4584-9c34-5fda098c4ac3",
   "metadata": {
    "tags": []
   },
   "outputs": [],
   "source": [
    "fig.savefigfig(\"plots\")"
   ]
  }
 ],
 "metadata": {
  "kernelspec": {
   "display_name": "braindiff",
   "language": "python",
   "name": "braindiff"
  },
  "language_info": {
   "codemirror_mode": {
    "name": "ipython",
    "version": 3
   },
   "file_extension": ".py",
   "mimetype": "text/x-python",
   "name": "python",
   "nbconvert_exporter": "python",
   "pygments_lexer": "ipython3",
   "version": "3.8.13"
  }
 },
 "nbformat": 4,
 "nbformat_minor": 5
}
