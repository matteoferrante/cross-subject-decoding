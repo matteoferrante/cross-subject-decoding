{
 "cells": [
  {
   "cell_type": "code",
   "execution_count": 1,
   "id": "eb648c03-1d1a-47cb-9303-b4b6934c43a9",
   "metadata": {
    "tags": []
   },
   "outputs": [],
   "source": [
    "import pandas as pd\n",
    "import pickle"
   ]
  },
  {
   "cell_type": "code",
   "execution_count": 3,
   "id": "5aee1ad7-4601-453f-8fc6-c82f3351e583",
   "metadata": {
    "tags": []
   },
   "outputs": [],
   "source": [
    "filename=\"metrics.sav\"\n",
    "with open(filename,\"rb\") as f:\n",
    "    metrics=pickle.load(f)\n",
    "    "
   ]
  },
  {
   "cell_type": "code",
   "execution_count": 7,
   "id": "b492507a-3cd8-4052-97b6-b6133cc79f28",
   "metadata": {
    "tags": []
   },
   "outputs": [
    {
     "data": {
      "text/plain": [
       "[0.2876757486217525,\n",
       " 0.2681344449520111,\n",
       " 0.8472505091649695,\n",
       " 0.9633401221995926,\n",
       " 0.8961303462321792,\n",
       " 0.9368635437881874]"
      ]
     },
     "execution_count": 7,
     "metadata": {},
     "output_type": "execute_result"
    }
   ],
   "source": [
    "metrics[\"subj01\"][\"ridge\"][100]"
   ]
  },
  {
   "cell_type": "code",
   "execution_count": 8,
   "id": "d370988b-40ad-4673-aefe-0bbc3370aa8d",
   "metadata": {
    "tags": []
   },
   "outputs": [],
   "source": [
    "met_dict=[]\n",
    "metric_names=[\"pix_corr\",\"ssim\",\"alexnet_2\",\"alexnet_5\",\"inception\",\"clip\"]\n",
    "\n",
    "for sub in metrics.keys():\n",
    "    d={\"subj\":sub}\n",
    "    d.update({k:v for k,v in zip(metric_names,metrics[sub][\"ridge\"][100])})\n",
    "    met_dict.append(d)\n",
    "    \n",
    "\n"
   ]
  },
  {
   "cell_type": "code",
   "execution_count": 10,
   "id": "b5fad868-7e28-4b2b-9dee-cc275b187cc4",
   "metadata": {
    "tags": []
   },
   "outputs": [
    {
     "data": {
      "text/html": [
       "<div>\n",
       "<style scoped>\n",
       "    .dataframe tbody tr th:only-of-type {\n",
       "        vertical-align: middle;\n",
       "    }\n",
       "\n",
       "    .dataframe tbody tr th {\n",
       "        vertical-align: top;\n",
       "    }\n",
       "\n",
       "    .dataframe thead th {\n",
       "        text-align: right;\n",
       "    }\n",
       "</style>\n",
       "<table border=\"1\" class=\"dataframe\">\n",
       "  <thead>\n",
       "    <tr style=\"text-align: right;\">\n",
       "      <th></th>\n",
       "      <th>subj</th>\n",
       "      <th>pix_corr</th>\n",
       "      <th>ssim</th>\n",
       "      <th>alexnet_2</th>\n",
       "      <th>alexnet_5</th>\n",
       "      <th>inception</th>\n",
       "      <th>clip</th>\n",
       "    </tr>\n",
       "  </thead>\n",
       "  <tbody>\n",
       "    <tr>\n",
       "      <th>0</th>\n",
       "      <td>subj01</td>\n",
       "      <td>0.287676</td>\n",
       "      <td>0.268134</td>\n",
       "      <td>0.847251</td>\n",
       "      <td>0.963340</td>\n",
       "      <td>0.896130</td>\n",
       "      <td>0.936864</td>\n",
       "    </tr>\n",
       "    <tr>\n",
       "      <th>1</th>\n",
       "      <td>subj02</td>\n",
       "      <td>0.288028</td>\n",
       "      <td>0.267577</td>\n",
       "      <td>0.839104</td>\n",
       "      <td>0.956212</td>\n",
       "      <td>0.893075</td>\n",
       "      <td>0.955193</td>\n",
       "    </tr>\n",
       "    <tr>\n",
       "      <th>2</th>\n",
       "      <td>subj05</td>\n",
       "      <td>0.283798</td>\n",
       "      <td>0.267467</td>\n",
       "      <td>0.836049</td>\n",
       "      <td>0.953157</td>\n",
       "      <td>0.904277</td>\n",
       "      <td>0.937882</td>\n",
       "    </tr>\n",
       "    <tr>\n",
       "      <th>3</th>\n",
       "      <td>subj07</td>\n",
       "      <td>0.283352</td>\n",
       "      <td>0.266303</td>\n",
       "      <td>0.851324</td>\n",
       "      <td>0.957230</td>\n",
       "      <td>0.910387</td>\n",
       "      <td>0.918534</td>\n",
       "    </tr>\n",
       "  </tbody>\n",
       "</table>\n",
       "</div>"
      ],
      "text/plain": [
       "     subj  pix_corr      ssim  alexnet_2  alexnet_5  inception      clip\n",
       "0  subj01  0.287676  0.268134   0.847251   0.963340   0.896130  0.936864\n",
       "1  subj02  0.288028  0.267577   0.839104   0.956212   0.893075  0.955193\n",
       "2  subj05  0.283798  0.267467   0.836049   0.953157   0.904277  0.937882\n",
       "3  subj07  0.283352  0.266303   0.851324   0.957230   0.910387  0.918534"
      ]
     },
     "execution_count": 10,
     "metadata": {},
     "output_type": "execute_result"
    }
   ],
   "source": [
    "df=pd.DataFrame.from_dict(met_dict)\n",
    "df"
   ]
  },
  {
   "cell_type": "code",
   "execution_count": 12,
   "id": "c6f91dc7-436b-450e-a263-c05d293bae4e",
   "metadata": {
    "tags": []
   },
   "outputs": [
    {
     "name": "stdout",
     "output_type": "stream",
     "text": [
      "\\begin{tabular}{llrrrrrr}\n",
      "\\toprule\n",
      "{} &    subj &  pix\\_corr &      ssim &  alexnet\\_2 &  alexnet\\_5 &  inception &      clip \\\\\n",
      "\\midrule\n",
      "0 &  subj01 &  0.287676 &  0.268134 &   0.847251 &   0.963340 &   0.896130 &  0.936864 \\\\\n",
      "1 &  subj02 &  0.288028 &  0.267577 &   0.839104 &   0.956212 &   0.893075 &  0.955193 \\\\\n",
      "2 &  subj05 &  0.283798 &  0.267467 &   0.836049 &   0.953157 &   0.904277 &  0.937882 \\\\\n",
      "3 &  subj07 &  0.283352 &  0.266303 &   0.851324 &   0.957230 &   0.910387 &  0.918534 \\\\\n",
      "\\bottomrule\n",
      "\\end{tabular}\n",
      "\n"
     ]
    }
   ],
   "source": [
    "print(df.to_latex())"
   ]
  }
 ],
 "metadata": {
  "kernelspec": {
   "display_name": "Python 3 (ipykernel)",
   "language": "python",
   "name": "python3"
  },
  "language_info": {
   "codemirror_mode": {
    "name": "ipython",
    "version": 3
   },
   "file_extension": ".py",
   "mimetype": "text/x-python",
   "name": "python",
   "nbconvert_exporter": "python",
   "pygments_lexer": "ipython3",
   "version": "3.9.0"
  }
 },
 "nbformat": 4,
 "nbformat_minor": 5
}
