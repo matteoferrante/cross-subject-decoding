{
 "cells": [
  {
   "cell_type": "markdown",
   "id": "1ae8e187-7505-464d-8d00-7ddfe2fa3231",
   "metadata": {},
   "source": [
    "## Save predicted stats to improve renormalization in decoding"
   ]
  },
  {
   "cell_type": "code",
   "execution_count": 1,
   "id": "e4f800b7-08a5-4b05-9b90-335775be337c",
   "metadata": {},
   "outputs": [],
   "source": [
    "import torch\n",
    "from os.path import join as opj\n",
    "import numpy as np\n",
    "import pickle\n",
    "import tqdm"
   ]
  },
  {
   "cell_type": "code",
   "execution_count": 2,
   "id": "db2849e4-c340-4dbc-89a0-a0eb1801176f",
   "metadata": {},
   "outputs": [],
   "source": [
    "base_path=\"/home/matteo/data/NSD\"\n",
    "timeseries_path=opj(base_path,\"nsddata_timeseries\")\n",
    "betas_path=opj(base_path,\"nsddata_betas\")\n",
    "\n",
    "stimuli_path=opj(base_path,\"nsddata_stimuli\",\"stimuli\",\"nsd\")\n",
    "stim_file_path=opj(stimuli_path,\"nsd_stimuli.hdf5\")\n",
    "sub=\"subj01\"\n",
    "mod=\"func1pt8mm\"\n",
    "subj_data_path=opj(timeseries_path,\"ppdata\",sub,mod,\"timeseries\")\n",
    "subj_betas_path=opj(betas_path,\"ppdata\",sub,mod,\"betas_assumehrf\")\n",
    "\n",
    "subj_betas_roi_extracted_path=opj(base_path,\"processed_roi\",sub,mod)\n",
    "\n",
    "stim_order_path=opj(base_path,\"nsddata\",\"experiments\",\"nsd\",\"nsd_expdesign.mat\")\n",
    "stim_info_path=opj(base_path,\"nsddata\",\"experiments\",\"nsd\",\"nsd_stim_info_merged.csv\")\n",
    "stim_captions_train_path=opj(base_path,\"nsddata_stimuli\",\"stimuli\",\"nsd\",\"annotations\",f\"captions_train2017.json\")\n",
    "stim_captions_val_path=opj(base_path,\"nsddata_stimuli\",\"stimuli\",\"nsd\",\"annotations\",f\"captions_val2017.json\")\n",
    "\n",
    "processed_data=opj(base_path,\"processed_roi\",sub)"
   ]
  },
  {
   "cell_type": "markdown",
   "id": "34eed81d-f1c3-4618-9992-2fec3e59c730",
   "metadata": {},
   "source": [
    "## 1. load train fmri data and brain to latent models"
   ]
  },
  {
   "cell_type": "code",
   "execution_count": 7,
   "id": "66445dfb-25c6-4964-9eef-cd56c4d95370",
   "metadata": {},
   "outputs": [],
   "source": [
    "train_fmri=torch.load(f\"models/{sub}/train_fmri.pt\")\n",
    "train_fmri_mean=train_fmri.mean(0)\n",
    "train_fmri_std=train_fmri.std(0)\n",
    "\n",
    "train_fmri_norm=torch.nan_to_num((train_fmri-train_fmri_mean)/train_fmri_std)"
   ]
  },
  {
   "cell_type": "code",
   "execution_count": 4,
   "id": "37a57f9a-cf66-43fd-bc69-6af2353cc10d",
   "metadata": {},
   "outputs": [],
   "source": [
    "## load brain models\n",
    "keep=31\n",
    "max_len_img=257\n",
    "max_len_txt=77\n",
    "\n",
    "keys=np.arange(keep)\n",
    "# filename='brain_to_latent_ridge.sav'\n",
    "brain_to_latent = {}\n",
    "#     pickle.load(open(opj(f\"models/{sub}/decoding\",filename), 'rb'))\n",
    "\n",
    "\n",
    "brain_to_img_emb=[]\n",
    "brain_to_txt_emb=[]\n",
    "\n",
    "for k in keys:\n",
    "    filename = f'brain_to_vdvae_latent_ridge_{k}.sav'\n",
    "    p=pickle.load(open(opj(f\"models/{sub}/decoding\",filename), 'rb'))\n",
    "    brain_to_latent[k]=p\n",
    "\n",
    "\n",
    "for i in range(max_len_img):\n",
    "    filename = f'brain_to_img_emb_ridge_{i}.sav'\n",
    "    p=pickle.load(open(opj(f\"models/{sub}/decoding\",filename), 'rb'))\n",
    "    brain_to_img_emb.append(p)\n",
    "for i in range(max_len_txt):\n",
    "    filename = f'brain_to_txt_emb_ridge_{i}.sav'\n",
    "    p=pickle.load(open(opj(f\"models/{sub}/decoding\",filename), 'rb'))\n",
    "    brain_to_txt_emb.append(p)"
   ]
  },
  {
   "cell_type": "code",
   "execution_count": 10,
   "id": "ef48880e-a61c-4bec-85c9-853cc3b61c38",
   "metadata": {},
   "outputs": [
    {
     "name": "stdout",
     "output_type": "stream",
     "text": [
      "0\n",
      "1\n",
      "2\n",
      "3\n",
      "4\n",
      "5\n",
      "6\n",
      "7\n",
      "8\n",
      "9\n",
      "10\n",
      "11\n",
      "12\n",
      "13\n",
      "14\n",
      "15\n",
      "16\n",
      "17\n",
      "18\n",
      "19\n",
      "20\n",
      "21\n",
      "22\n",
      "23\n",
      "24\n",
      "25\n",
      "26\n",
      "27\n",
      "28\n",
      "29\n",
      "30\n"
     ]
    }
   ],
   "source": [
    "stats={}\n",
    "\n",
    "shapes={0:(16,1,1),\n",
    "        1: (16, 1, 1),\n",
    "         2: (16, 4, 4),\n",
    "         3: (16, 4, 4),\n",
    "         4: (16, 4, 4),\n",
    "         5: (16, 4, 4),\n",
    "         6: (16, 8, 8),\n",
    "         7: (16, 8, 8),\n",
    "         8: (16, 8, 8),\n",
    "         9: (16, 8, 8),\n",
    "         10: (16, 8, 8),\n",
    "         11: (16, 8, 8),\n",
    "         12: (16, 8, 8),\n",
    "         13: (16, 8, 8),\n",
    "         14: (16, 16, 16),\n",
    "         15: (16, 16, 16),\n",
    "         16: (16, 16, 16),\n",
    "         17: (16, 16, 16),\n",
    "         18: (16, 16, 16),\n",
    "         19: (16, 16, 16),\n",
    "         20: (16, 16, 16),\n",
    "         21: (16, 16, 16),\n",
    "         22: (16, 16, 16),\n",
    "         23: (16, 16, 16),\n",
    "         24: (16, 16, 16),\n",
    "         25: (16, 16, 16),\n",
    "         26: (16, 16, 16),\n",
    "         27: (16, 16, 16),\n",
    "         28: (16, 16, 16),\n",
    "         29: (16, 16, 16),\n",
    "         30: (16, 32, 32)}\n",
    "\n",
    "for k,v in brain_to_latent.items():\n",
    "    print(k)\n",
    "    s=shapes[k]\n",
    "    z=torch.tensor(v.predict(train_fmri_norm.numpy())).reshape(-1,*s)\n",
    "    \n",
    "    stats[k]={\"mean\":z.mean(0),\"std\":z.std(0)}"
   ]
  },
  {
   "cell_type": "code",
   "execution_count": 11,
   "id": "4581876e-2688-4d67-b2b2-e7df3d84af6f",
   "metadata": {},
   "outputs": [],
   "source": [
    "filename=\"predicted_latent_stats.sav\"\n",
    "\n",
    "with open(opj(f\"models/{sub}\",filename),\"wb\") as f:\n",
    "    pickle.dump(stats,f)"
   ]
  },
  {
   "cell_type": "markdown",
   "id": "61c8dcc4-e0ed-4426-9366-478ac60393ba",
   "metadata": {},
   "source": [
    "## 2. Same for embeddings"
   ]
  },
  {
   "cell_type": "code",
   "execution_count": 12,
   "id": "0cc250a8-8474-4ee5-a3a7-22811c0716f9",
   "metadata": {},
   "outputs": [
    {
     "name": "stderr",
     "output_type": "stream",
     "text": [
      "100%|█████████████████████████████████████████| 257/257 [01:33<00:00,  2.75it/s]\n",
      "100%|███████████████████████████████████████████| 77/77 [00:28<00:00,  2.66it/s]\n"
     ]
    }
   ],
   "source": [
    "img_emb=[]\n",
    "txt_emb=[]\n",
    "\n",
    "for i in tqdm.tqdm(range(257)):\n",
    "    emb=torch.tensor(brain_to_img_emb[i].predict(train_fmri_norm.numpy()))\n",
    "    img_emb.append(emb)\n",
    "\n",
    "    \n",
    "for i in tqdm.tqdm(range(77)):\n",
    "    emb=torch.tensor(brain_to_txt_emb[i].predict(train_fmri_norm.numpy()))\n",
    "    txt_emb.append(emb)\n",
    "    \n",
    "img_emb=torch.stack(img_emb,1)\n",
    "txt_emb=torch.stack(txt_emb,1)\n"
   ]
  },
  {
   "cell_type": "code",
   "execution_count": 13,
   "id": "341cd1ba-2e83-4ede-a5e7-d8a15cdd5941",
   "metadata": {},
   "outputs": [],
   "source": [
    "predicted_img_emb_mean=img_emb.mean(0)\n",
    "predicted_img_emb_std=img_emb.std(0)\n",
    "\n",
    "predicted_txt_emb_mean=txt_emb.mean(0)\n",
    "predicted_txt_emb_std=txt_emb.std(0)\n"
   ]
  },
  {
   "cell_type": "code",
   "execution_count": 14,
   "id": "1c55d99a-7ec7-4790-bd9c-89cd3e8de7ce",
   "metadata": {},
   "outputs": [],
   "source": [
    "\n",
    "# Define the file paths\n",
    "img_emb_mean_path = f\"models/{sub}/predicted_img_emb_mean.pt\"\n",
    "img_emb_std_path = f\"models/{sub}/predicted_img_emb_std.pt\"\n",
    "txt_emb_mean_path = f\"models/{sub}/predicted_txt_emb_mean.pt\"\n",
    "txt_emb_std_path = f\"models/{sub}/predicted_txt_emb_std.pt\"\n",
    "\n",
    "# Save the tensors\n",
    "torch.save(predicted_img_emb_mean, img_emb_mean_path)\n",
    "torch.save(predicted_img_emb_std, img_emb_std_path)\n",
    "torch.save(predicted_txt_emb_mean, txt_emb_mean_path)\n",
    "torch.save(predicted_txt_emb_std, txt_emb_std_path)"
   ]
  },
  {
   "cell_type": "code",
   "execution_count": 15,
   "id": "67adda9a-f489-438e-b569-822f94c77a54",
   "metadata": {},
   "outputs": [
    {
     "data": {
      "text/plain": [
       "torch.Size([257, 768])"
      ]
     },
     "execution_count": 15,
     "metadata": {},
     "output_type": "execute_result"
    }
   ],
   "source": [
    "predicted_img_emb_mean.shape"
   ]
  },
  {
   "cell_type": "code",
   "execution_count": 16,
   "id": "6af16789-87f2-4700-8fd6-61d354f97375",
   "metadata": {},
   "outputs": [],
   "source": [
    "torch.save(train_fmri_mean,f\"models/{sub}/train_fmri_mean.pt\")\n",
    "torch.save(train_fmri_std,f\"models/{sub}/train_fmri_std.pt\")\n"
   ]
  }
 ],
 "metadata": {
  "kernelspec": {
   "display_name": "pytorch",
   "language": "python",
   "name": "pytorch"
  },
  "language_info": {
   "codemirror_mode": {
    "name": "ipython",
    "version": 3
   },
   "file_extension": ".py",
   "mimetype": "text/x-python",
   "name": "python",
   "nbconvert_exporter": "python",
   "pygments_lexer": "ipython3",
   "version": "3.9.0"
  }
 },
 "nbformat": 4,
 "nbformat_minor": 5
}
